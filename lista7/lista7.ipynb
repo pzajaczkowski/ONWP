{
 "cells": [
  {
   "cell_type": "markdown",
   "metadata": {},
   "source": [
    "# Lista 7\n"
   ]
  },
  {
   "cell_type": "code",
   "execution_count": 159,
   "metadata": {},
   "outputs": [],
   "source": [
    "from sympy import symbols, init_printing, dsolve\n",
    "import sympy as sp\n",
    "import pandas as pd\n",
    "\n",
    "init_printing(use_unicode=True)"
   ]
  },
  {
   "cell_type": "code",
   "execution_count": 160,
   "metadata": {},
   "outputs": [],
   "source": [
    "y = symbols(\"y\", cls=sp.Function)\n",
    "x = symbols(\"x\", real=True)"
   ]
  },
  {
   "cell_type": "markdown",
   "metadata": {},
   "source": [
    "## Kody funkcji\n"
   ]
  },
  {
   "cell_type": "markdown",
   "metadata": {},
   "source": [
    "### Rozwiązanie dokładne **(RD)**\n"
   ]
  },
  {
   "cell_type": "code",
   "execution_count": 161,
   "metadata": {},
   "outputs": [],
   "source": [
    "def fun_RD(f, x0, y0):\n",
    "    return dsolve(sp.Eq(y(x).diff(x), f), y(x), ics={y(x0): y0})"
   ]
  },
  {
   "cell_type": "markdown",
   "metadata": {},
   "source": [
    "### Rozwiązanie przybliżone analityczne **(RA)**\n"
   ]
  },
  {
   "cell_type": "code",
   "execution_count": 162,
   "metadata": {},
   "outputs": [],
   "source": [
    "def fun_RA(f, x0, y0, n=5):\n",
    "    pochodne_bez_podstawien = [f]\n",
    "    for i in range(n + 1):\n",
    "        pochodne_bez_podstawien.append(sp.diff(pochodne_bez_podstawien[-1], x))\n",
    "\n",
    "    pochodne_od_x = [y0, f.subs({x: x0, y(x): y0})]\n",
    "    for i in range(1, len(pochodne_bez_podstawien)):\n",
    "        pochodna = pochodne_bez_podstawien[i]\n",
    "        for j in range(i, 0, -1):\n",
    "            pochodna = pochodna.subs(y(x).diff((x, j)), pochodne_od_x[j])\n",
    "        pochodna = pochodna.subs(x, x0).subs(y(x0), y0)\n",
    "        pochodne_od_x.append(pochodna.simplify())\n",
    "\n",
    "    skladowe = [\n",
    "        pochodne_od_x[ni] / sp.factorial(ni) * (x - x0) ** ni for ni in range(0, n + 1)\n",
    "    ]\n",
    "\n",
    "    return sum(skladowe)"
   ]
  },
  {
   "cell_type": "markdown",
   "metadata": {},
   "source": [
    "### Rozwiązanie przybliżone numeryczne **(RN)**\n"
   ]
  },
  {
   "cell_type": "code",
   "execution_count": 163,
   "metadata": {},
   "outputs": [],
   "source": [
    "def fun_RN(f, x0, y0, xn, h=0.2):\n",
    "    # jeżeli wyliczanoo x jest większe lub równe szukanemu, to zwrcamy y\n",
    "    # (w przypadku gdy kroki nie pokryją się z szukaną wartością,\n",
    "    # zwrócona zostanie wartość dla najbliżeszego mniejszego kroku)\n",
    "    if x0 >= xn:\n",
    "        return y0\n",
    "    y_k = y0 + h * f.subs({x: x0, y(x): y0})\n",
    "    x_k = x0 + h\n",
    "    return fun_RN(f, x_k, y_k, xn, h)"
   ]
  },
  {
   "cell_type": "code",
   "execution_count": 164,
   "metadata": {},
   "outputs": [],
   "source": [
    "def fun_RN_iter(f, x0, y0, xn, h=0.2):\n",
    "    while x0 < xn:\n",
    "        y_k = y0 + h * f.subs({x: x0, y(x): y0})\n",
    "        x0 += h\n",
    "        y0 = y_k\n",
    "\n",
    "    return y0"
   ]
  },
  {
   "cell_type": "markdown",
   "metadata": {},
   "source": [
    "## Rozwiązania\n"
   ]
  },
  {
   "cell_type": "markdown",
   "metadata": {},
   "source": [
    "### Podpunkt **(a)**\n"
   ]
  },
  {
   "cell_type": "code",
   "execution_count": 165,
   "metadata": {},
   "outputs": [],
   "source": [
    "f = 2 * y(x) + sp.exp(x) - x\n",
    "y0 = 1 / 4\n",
    "x0 = 0"
   ]
  },
  {
   "cell_type": "code",
   "execution_count": 166,
   "metadata": {},
   "outputs": [
    {
     "data": {
      "text/html": [
       "<div>\n",
       "<style scoped>\n",
       "    .dataframe tbody tr th:only-of-type {\n",
       "        vertical-align: middle;\n",
       "    }\n",
       "\n",
       "    .dataframe tbody tr th {\n",
       "        vertical-align: top;\n",
       "    }\n",
       "\n",
       "    .dataframe thead th {\n",
       "        text-align: right;\n",
       "    }\n",
       "</style>\n",
       "<table border=\"1\" class=\"dataframe\">\n",
       "  <thead>\n",
       "    <tr style=\"text-align: right;\">\n",
       "      <th></th>\n",
       "      <th>(a)</th>\n",
       "      <th>x0 = 0</th>\n",
       "      <th>x0 = 0.2</th>\n",
       "      <th>x0 = 0.4</th>\n",
       "      <th>x0 = 0.6</th>\n",
       "      <th>x0 = 0.8</th>\n",
       "      <th>x0 = 1</th>\n",
       "    </tr>\n",
       "  </thead>\n",
       "  <tbody>\n",
       "    <tr>\n",
       "      <th>0</th>\n",
       "      <td>RD</td>\n",
       "      <td>0.25000</td>\n",
       "      <td>0.62042</td>\n",
       "      <td>1.1837</td>\n",
       "      <td>2.0480</td>\n",
       "      <td>3.3775</td>\n",
       "      <td>5.4208</td>\n",
       "    </tr>\n",
       "    <tr>\n",
       "      <th>1</th>\n",
       "      <td>RA</td>\n",
       "      <td>0.25000</td>\n",
       "      <td>0.62042</td>\n",
       "      <td>1.1833</td>\n",
       "      <td>2.0431</td>\n",
       "      <td>3.3480</td>\n",
       "      <td>5.3000</td>\n",
       "    </tr>\n",
       "    <tr>\n",
       "      <th>2</th>\n",
       "      <td>RN</td>\n",
       "      <td>0.25</td>\n",
       "      <td>0.55000</td>\n",
       "      <td>0.97428</td>\n",
       "      <td>1.58236</td>\n",
       "      <td>2.45972</td>\n",
       "      <td>3.72872</td>\n",
       "    </tr>\n",
       "  </tbody>\n",
       "</table>\n",
       "</div>"
      ],
      "text/plain": [
       "  (a)   x0 = 0 x0 = 0.2 x0 = 0.4 x0 = 0.6 x0 = 0.8   x0 = 1\n",
       "0  RD  0.25000  0.62042   1.1837   2.0480   3.3775   5.4208\n",
       "1  RA  0.25000  0.62042   1.1833   2.0431   3.3480   5.3000\n",
       "2  RN     0.25  0.55000  0.97428  1.58236  2.45972  3.72872"
      ]
     },
     "execution_count": 166,
     "metadata": {},
     "output_type": "execute_result"
    }
   ],
   "source": [
    "kolumny = [0, 0.2, 0.4, 0.6, 0.8, 1]\n",
    "wiersze = [\"RD\", \"RA\", \"RN\"]\n",
    "wartości = [\n",
    "    [fun_RD(f, x0, y0).subs(x, x_val).evalf(5).rhs for x_val in kolumny],\n",
    "    [fun_RA(f, x0, y0).subs(x, x_val).evalf(5) for x_val in kolumny],\n",
    "    [round(fun_RN(f, x0, y0, x_val), 5) for x_val in kolumny],\n",
    "]\n",
    "table_data = [(wiersze[i], *wartości[i]) for i in range(len(wiersze))]\n",
    "pd.DataFrame(table_data, columns=[\"(a)\"] + [f\"x0 = {col}\" for col in kolumny])"
   ]
  },
  {
   "cell_type": "markdown",
   "metadata": {},
   "source": [
    "### Podpunkt **(b)**\n"
   ]
  },
  {
   "cell_type": "code",
   "execution_count": 167,
   "metadata": {},
   "outputs": [],
   "source": [
    "f = (x - 1) + (x + 1) * y(x)\n",
    "y0 = 0\n",
    "x0 = 0"
   ]
  },
  {
   "cell_type": "code",
   "execution_count": 168,
   "metadata": {},
   "outputs": [
    {
     "data": {
      "text/html": [
       "<div>\n",
       "<style scoped>\n",
       "    .dataframe tbody tr th:only-of-type {\n",
       "        vertical-align: middle;\n",
       "    }\n",
       "\n",
       "    .dataframe tbody tr th {\n",
       "        vertical-align: top;\n",
       "    }\n",
       "\n",
       "    .dataframe thead th {\n",
       "        text-align: right;\n",
       "    }\n",
       "</style>\n",
       "<table border=\"1\" class=\"dataframe\">\n",
       "  <thead>\n",
       "    <tr style=\"text-align: right;\">\n",
       "      <th></th>\n",
       "      <th>(b)</th>\n",
       "      <th>x0 = 0</th>\n",
       "      <th>x0 = 0.2</th>\n",
       "      <th>x0 = 0.4</th>\n",
       "      <th>x0 = 0.6</th>\n",
       "      <th>x0 = 0.8</th>\n",
       "      <th>x0 = 1</th>\n",
       "    </tr>\n",
       "  </thead>\n",
       "  <tbody>\n",
       "    <tr>\n",
       "      <th>0</th>\n",
       "      <td>RD</td>\n",
       "      <td>0</td>\n",
       "      <td>-0.20282</td>\n",
       "      <td>-0.42446</td>\n",
       "      <td>-0.69114</td>\n",
       "      <td>-1.0441</td>\n",
       "      <td>-1.5526</td>\n",
       "    </tr>\n",
       "    <tr>\n",
       "      <th>1</th>\n",
       "      <td>RA</td>\n",
       "      <td>0</td>\n",
       "      <td>-0.20283</td>\n",
       "      <td>-0.42432</td>\n",
       "      <td>-0.68928</td>\n",
       "      <td>-1.0321</td>\n",
       "      <td>-1.5000</td>\n",
       "    </tr>\n",
       "    <tr>\n",
       "      <th>2</th>\n",
       "      <td>RN</td>\n",
       "      <td>0</td>\n",
       "      <td>-0.20000</td>\n",
       "      <td>-0.40800</td>\n",
       "      <td>-0.64224</td>\n",
       "      <td>-0.92776</td>\n",
       "      <td>-1.30175</td>\n",
       "    </tr>\n",
       "  </tbody>\n",
       "</table>\n",
       "</div>"
      ],
      "text/plain": [
       "  (b) x0 = 0  x0 = 0.2  x0 = 0.4  x0 = 0.6  x0 = 0.8    x0 = 1\n",
       "0  RD      0  -0.20282  -0.42446  -0.69114   -1.0441   -1.5526\n",
       "1  RA      0  -0.20283  -0.42432  -0.68928   -1.0321   -1.5000\n",
       "2  RN      0  -0.20000  -0.40800  -0.64224  -0.92776  -1.30175"
      ]
     },
     "execution_count": 168,
     "metadata": {},
     "output_type": "execute_result"
    }
   ],
   "source": [
    "kolumny = [0, 0.2, 0.4, 0.6, 0.8, 1]\n",
    "wiersze = [\"RD\", \"RA\", \"RN\"]\n",
    "wartości = [\n",
    "    [fun_RD(f, x0, y0).subs(x, x_val).evalf(5).rhs for x_val in kolumny],\n",
    "    [fun_RA(f, x0, y0).subs(x, x_val).evalf(5) for x_val in kolumny],\n",
    "    [round(fun_RN(f, x0, y0, x_val), 5) for x_val in kolumny],\n",
    "]\n",
    "table_data = [(wiersze[i], *wartości[i]) for i in range(len(wiersze))]\n",
    "pd.DataFrame(table_data, columns=[\"(b)\"] + [f\"x0 = {col}\" for col in kolumny])"
   ]
  }
 ],
 "metadata": {
  "kernelspec": {
   "display_name": "venv",
   "language": "python",
   "name": "python3"
  },
  "language_info": {
   "codemirror_mode": {
    "name": "ipython",
    "version": 3
   },
   "file_extension": ".py",
   "mimetype": "text/x-python",
   "name": "python",
   "nbconvert_exporter": "python",
   "pygments_lexer": "ipython3",
   "version": "3.11.8"
  }
 },
 "nbformat": 4,
 "nbformat_minor": 2
}
