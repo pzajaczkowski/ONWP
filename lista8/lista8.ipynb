{
 "cells": [
  {
   "cell_type": "markdown",
   "metadata": {},
   "source": [
    "# Lista 8\n"
   ]
  },
  {
   "cell_type": "code",
   "execution_count": null,
   "metadata": {},
   "outputs": [],
   "source": [
    "from sympy import (\n",
    "    init_printing,\n",
    ")\n",
    "from sympy.matrices import Matrix\n",
    "\n",
    "init_printing(use_unicode=True)"
   ]
  }
 ],
 "metadata": {
  "language_info": {
   "name": "python"
  }
 },
 "nbformat": 4,
 "nbformat_minor": 2
}
