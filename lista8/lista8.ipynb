{
 "cells": [
  {
   "cell_type": "markdown",
   "metadata": {},
   "source": [
    "# Lista 8\n"
   ]
  },
  {
   "cell_type": "code",
   "execution_count": 1,
   "metadata": {},
   "outputs": [],
   "source": [
    "from sympy import init_printing, shape, det\n",
    "from sympy.matrices import Matrix\n",
    "\n",
    "init_printing(use_unicode=True)"
   ]
  },
  {
   "cell_type": "code",
   "execution_count": 2,
   "metadata": {},
   "outputs": [
    {
     "data": {
      "text/latex": [
       "$\\displaystyle \\left[\\begin{matrix}-0.11 & -0.36 & -0.77 & -0.33\\\\0.99 & 0.6 & 0.89 & 0.56\\\\0.55 & 0.23 & 0.57 & -0.49\\\\0.45 & -0.18 & -0.93 & 0.94\\end{matrix}\\right]$"
      ],
      "text/plain": [
       "⎡-0.11  -0.36  -0.77  -0.33⎤\n",
       "⎢                          ⎥\n",
       "⎢0.99    0.6   0.89   0.56 ⎥\n",
       "⎢                          ⎥\n",
       "⎢0.55   0.23   0.57   -0.49⎥\n",
       "⎢                          ⎥\n",
       "⎣0.45   -0.18  -0.93  0.94 ⎦"
      ]
     },
     "execution_count": 2,
     "metadata": {},
     "output_type": "execute_result"
    }
   ],
   "source": [
    "MatA = Matrix(\n",
    "    [\n",
    "        [-0.11, -0.36, -0.77, -0.33],\n",
    "        [0.99, 0.60, 0.89, 0.56],\n",
    "        [0.55, 0.23, 0.57, -0.49],\n",
    "        [0.45, -0.18, -0.93, 0.94],\n",
    "    ]\n",
    ")\n",
    "MatA"
   ]
  },
  {
   "cell_type": "code",
   "execution_count": 3,
   "metadata": {},
   "outputs": [
    {
     "data": {
      "text/latex": [
       "$\\displaystyle \\left[\\begin{matrix}31\\\\-56\\\\61\\\\54\\end{matrix}\\right]$"
      ],
      "text/plain": [
       "⎡31 ⎤\n",
       "⎢   ⎥\n",
       "⎢-56⎥\n",
       "⎢   ⎥\n",
       "⎢61 ⎥\n",
       "⎢   ⎥\n",
       "⎣54 ⎦"
      ]
     },
     "execution_count": 3,
     "metadata": {},
     "output_type": "execute_result"
    }
   ],
   "source": [
    "MatB = Matrix(4, 1, [31, -56, 61, 54])\n",
    "MatB"
   ]
  },
  {
   "cell_type": "markdown",
   "metadata": {},
   "source": [
    "### Zadanie 1 - Metoda Cramera\n"
   ]
  },
  {
   "cell_type": "code",
   "execution_count": 4,
   "metadata": {},
   "outputs": [
    {
     "data": {
      "image/png": "[encoded data removed]",
      "text/latex": [
       "$\\displaystyle 0.0382211599999999$"
      ],
      "text/plain": [
       "0.0382211599999999"
      ]
     },
     "execution_count": 4,
     "metadata": {},
     "output_type": "execute_result"
    }
   ],
   "source": [
    "MatA.det()"
   ]
  },
  {
   "cell_type": "code",
   "execution_count": 5,
   "metadata": {},
   "outputs": [
    {
     "data": {
      "text/plain": [
       "'A1'"
      ]
     },
     "metadata": {},
     "output_type": "display_data"
    },
    {
     "data": {
      "text/latex": [
       "$\\displaystyle \\left[\\begin{matrix}31 & -0.36 & -0.77 & -0.33\\\\-56 & 0.6 & 0.89 & 0.56\\\\61 & 0.23 & 0.57 & -0.49\\\\54 & -0.18 & -0.93 & 0.94\\end{matrix}\\right]$"
      ],
      "text/plain": [
       "⎡31   -0.36  -0.77  -0.33⎤\n",
       "⎢                        ⎥\n",
       "⎢-56   0.6   0.89   0.56 ⎥\n",
       "⎢                        ⎥\n",
       "⎢61   0.23   0.57   -0.49⎥\n",
       "⎢                        ⎥\n",
       "⎣54   -0.18  -0.93  0.94 ⎦"
      ]
     },
     "metadata": {},
     "output_type": "display_data"
    },
    {
     "data": {
      "text/plain": [
       "'Det A1'"
      ]
     },
     "metadata": {},
     "output_type": "display_data"
    },
    {
     "data": {
      "image/png": "[encoded data removed]",
      "text/latex": [
       "$\\displaystyle 16.756084$"
      ],
      "text/plain": [
       "16.7560840000000"
      ]
     },
     "metadata": {},
     "output_type": "display_data"
    },
    {
     "data": {
      "text/plain": [
       "'A2'"
      ]
     },
     "metadata": {},
     "output_type": "display_data"
    },
    {
     "data": {
      "text/latex": [
       "$\\displaystyle \\left[\\begin{matrix}-0.11 & 31 & -0.77 & -0.33\\\\0.99 & -56 & 0.89 & 0.56\\\\0.55 & 61 & 0.57 & -0.49\\\\0.45 & 54 & -0.93 & 0.94\\end{matrix}\\right]$"
      ],
      "text/plain": [
       "⎡-0.11  31   -0.77  -0.33⎤\n",
       "⎢                        ⎥\n",
       "⎢0.99   -56  0.89   0.56 ⎥\n",
       "⎢                        ⎥\n",
       "⎢0.55   61   0.57   -0.49⎥\n",
       "⎢                        ⎥\n",
       "⎣0.45   54   -0.93  0.94 ⎦"
      ]
     },
     "metadata": {},
     "output_type": "display_data"
    },
    {
     "data": {
      "text/plain": [
       "'Det A2'"
      ]
     },
     "metadata": {},
     "output_type": "display_data"
    },
    {
     "data": {
      "image/png": "[encoded data removed]",
      "text/latex": [
       "$\\displaystyle -93.463384$"
      ],
      "text/plain": [
       "-93.4633840000000"
      ]
     },
     "metadata": {},
     "output_type": "display_data"
    },
    {
     "data": {
      "text/plain": [
       "'A3'"
      ]
     },
     "metadata": {},
     "output_type": "display_data"
    },
    {
     "data": {
      "text/latex": [
       "$\\displaystyle \\left[\\begin{matrix}-0.11 & -0.36 & 31 & -0.33\\\\0.99 & 0.6 & -56 & 0.56\\\\0.55 & 0.23 & 61 & -0.49\\\\0.45 & -0.18 & 54 & 0.94\\end{matrix}\\right]$"
      ],
      "text/plain": [
       "⎡-0.11  -0.36  31   -0.33⎤\n",
       "⎢                        ⎥\n",
       "⎢0.99    0.6   -56  0.56 ⎥\n",
       "⎢                        ⎥\n",
       "⎢0.55   0.23   61   -0.49⎥\n",
       "⎢                        ⎥\n",
       "⎣0.45   -0.18  54   0.94 ⎦"
      ]
     },
     "metadata": {},
     "output_type": "display_data"
    },
    {
     "data": {
      "text/plain": [
       "'Det A3'"
      ]
     },
     "metadata": {},
     "output_type": "display_data"
    },
    {
     "data": {
      "image/png": "[encoded data removed]",
      "text/latex": [
       "$\\displaystyle 35.0641$"
      ],
      "text/plain": [
       "35.0641000000000"
      ]
     },
     "metadata": {},
     "output_type": "display_data"
    },
    {
     "data": {
      "text/plain": [
       "'A4'"
      ]
     },
     "metadata": {},
     "output_type": "display_data"
    },
    {
     "data": {
      "text/latex": [
       "$\\displaystyle \\left[\\begin{matrix}-0.11 & -0.36 & -0.77 & 31\\\\0.99 & 0.6 & 0.89 & -56\\\\0.55 & 0.23 & 0.57 & 61\\\\0.45 & -0.18 & -0.93 & 54\\end{matrix}\\right]$"
      ],
      "text/plain": [
       "⎡-0.11  -0.36  -0.77  31 ⎤\n",
       "⎢                        ⎥\n",
       "⎢0.99    0.6   0.89   -56⎥\n",
       "⎢                        ⎥\n",
       "⎢0.55   0.23   0.57   61 ⎥\n",
       "⎢                        ⎥\n",
       "⎣0.45   -0.18  -0.93  54 ⎦"
      ]
     },
     "metadata": {},
     "output_type": "display_data"
    },
    {
     "data": {
      "text/plain": [
       "'Det A4'"
      ]
     },
     "metadata": {},
     "output_type": "display_data"
    },
    {
     "data": {
      "image/png": "[encoded data removed]",
      "text/latex": [
       "$\\displaystyle 10.967988$"
      ],
      "text/plain": [
       "10.9679880000000"
      ]
     },
     "metadata": {},
     "output_type": "display_data"
    }
   ],
   "source": [
    "MatCramer = []\n",
    "for j in range(0, 4):\n",
    "    MatAReplaced = MatA.copy()\n",
    "    MatAReplaced[:, j] = MatB\n",
    "    display(f\"A{j+1}\", MatAReplaced, f\"Det A{j+1}\", MatAReplaced.det())\n",
    "    MatCramer.append(MatAReplaced.det() / MatA.det())"
   ]
  },
  {
   "cell_type": "code",
   "execution_count": 6,
   "metadata": {},
   "outputs": [
    {
     "data": {
      "text/latex": [
       "$\\displaystyle \\left[\\begin{matrix}438.398101993765\\\\-2445.33091094043\\\\917.400204494056\\\\286.961149269149\\end{matrix}\\right]$"
      ],
      "text/plain": [
       "⎡438.398101993765 ⎤\n",
       "⎢                 ⎥\n",
       "⎢-2445.33091094043⎥\n",
       "⎢                 ⎥\n",
       "⎢917.400204494056 ⎥\n",
       "⎢                 ⎥\n",
       "⎣286.961149269149 ⎦"
      ]
     },
     "metadata": {},
     "output_type": "display_data"
    }
   ],
   "source": [
    "MatCramer = Matrix(MatCramer)\n",
    "display(MatCramer)"
   ]
  },
  {
   "cell_type": "markdown",
   "metadata": {},
   "source": [
    "### Zadanie 2 - Metoda macierzy odwrotnej\n"
   ]
  },
  {
   "cell_type": "code",
   "execution_count": 7,
   "metadata": {},
   "outputs": [
    {
     "data": {
      "text/plain": [
       "'Matrix A transposed'"
      ]
     },
     "metadata": {},
     "output_type": "display_data"
    },
    {
     "data": {
      "text/latex": [
       "$\\displaystyle \\left[\\begin{matrix}-0.11 & 0.99 & 0.55 & 0.45\\\\-0.36 & 0.6 & 0.23 & -0.18\\\\-0.77 & 0.89 & 0.57 & -0.93\\\\-0.33 & 0.56 & -0.49 & 0.94\\end{matrix}\\right]$"
      ],
      "text/plain": [
       "⎡-0.11  0.99  0.55   0.45 ⎤\n",
       "⎢                         ⎥\n",
       "⎢-0.36  0.6   0.23   -0.18⎥\n",
       "⎢                         ⎥\n",
       "⎢-0.77  0.89  0.57   -0.93⎥\n",
       "⎢                         ⎥\n",
       "⎣-0.33  0.56  -0.49  0.94 ⎦"
      ]
     },
     "execution_count": 7,
     "metadata": {},
     "output_type": "execute_result"
    }
   ],
   "source": [
    "sh = shape(MatA)\n",
    "detA = det(MatA)\n",
    "\n",
    "MatATransposed = MatA.transpose()\n",
    "display(\"Matrix A transposed\")\n",
    "MatATransposed"
   ]
  },
  {
   "cell_type": "code",
   "execution_count": 8,
   "metadata": {},
   "outputs": [
    {
     "data": {
      "text/plain": [
       "'Matrix AD'"
      ]
     },
     "metadata": {},
     "output_type": "display_data"
    },
    {
     "data": {
      "text/latex": [
       "$\\displaystyle \\left[\\begin{matrix}-0.128188 & -0.106453 & 0.154506 & 0.098957\\\\1.007156 & 0.812504 & -0.809204 & -0.552288\\\\-0.42918 & -0.318245 & 0.319074 & 0.205249\\\\-0.170388 & -0.108312 & 0.08676 & 0.090596\\end{matrix}\\right]$"
      ],
      "text/plain": [
       "⎡-0.128188  -0.106453  0.154506   0.098957 ⎤\n",
       "⎢                                          ⎥\n",
       "⎢1.007156   0.812504   -0.809204  -0.552288⎥\n",
       "⎢                                          ⎥\n",
       "⎢-0.42918   -0.318245  0.319074   0.205249 ⎥\n",
       "⎢                                          ⎥\n",
       "⎣-0.170388  -0.108312   0.08676   0.090596 ⎦"
      ]
     },
     "execution_count": 8,
     "metadata": {},
     "output_type": "execute_result"
    }
   ],
   "source": [
    "DValues = []\n",
    "for i in range(sh[0]):\n",
    "    for j in range(sh[1]):\n",
    "        MatATransposedDeleted = MatATransposed.copy()\n",
    "        MatATransposedDeleted.row_del(i)\n",
    "        MatATransposedDeleted.col_del(j)\n",
    "        DValues.append((-1) ** (i + j + 2) * det(MatATransposedDeleted))\n",
    "MatAD = Matrix(sh[0], sh[1], DValues)\n",
    "display(\"Matrix AD\")\n",
    "MatAD"
   ]
  },
  {
   "cell_type": "code",
   "execution_count": 9,
   "metadata": {},
   "outputs": [
    {
     "data": {
      "text/plain": [
       "'A*-1'"
      ]
     },
     "metadata": {},
     "output_type": "display_data"
    },
    {
     "data": {
      "text/latex": [
       "$\\displaystyle \\left[\\begin{matrix}-3.3538 & -2.7852 & 4.0424 & 2.5891\\\\26.351 & 21.258 & -21.172 & -14.45\\\\-11.229 & -8.3264 & 8.3481 & 5.37\\\\-4.4579 & -2.8338 & 2.2699 & 2.3703\\end{matrix}\\right]$"
      ],
      "text/plain": [
       "⎡-3.3538  -2.7852  4.0424   2.5891⎤\n",
       "⎢                                 ⎥\n",
       "⎢26.351   21.258   -21.172  -14.45⎥\n",
       "⎢                                 ⎥\n",
       "⎢-11.229  -8.3264  8.3481    5.37 ⎥\n",
       "⎢                                 ⎥\n",
       "⎣-4.4579  -2.8338  2.2699   2.3703⎦"
      ]
     },
     "metadata": {},
     "output_type": "display_data"
    },
    {
     "data": {
      "text/plain": [
       "'X'"
      ]
     },
     "metadata": {},
     "output_type": "display_data"
    },
    {
     "data": {
      "text/latex": [
       "$\\displaystyle \\left[\\begin{matrix}438.3981\\\\-2445.331\\\\917.4002\\\\286.9612\\end{matrix}\\right]$"
      ],
      "text/plain": [
       "⎡438.3981 ⎤\n",
       "⎢         ⎥\n",
       "⎢-2445.331⎥\n",
       "⎢         ⎥\n",
       "⎢917.4002 ⎥\n",
       "⎢         ⎥\n",
       "⎣286.9612 ⎦"
      ]
     },
     "metadata": {},
     "output_type": "display_data"
    }
   ],
   "source": [
    "MatAInversed = MatAD / detA\n",
    "display(\"A*-1\")\n",
    "display(MatAInversed.evalf(5))\n",
    "\n",
    "X = MatAInversed * MatB\n",
    "display(\"X\")\n",
    "display(X.evalf(7))"
   ]
  },
  {
   "cell_type": "markdown",
   "metadata": {},
   "source": [
    "# Zadanie 3 - Metoda rozkładu LU\n"
   ]
  },
  {
   "cell_type": "code",
   "execution_count": 10,
   "metadata": {},
   "outputs": [
    {
     "data": {
      "text/plain": [
       "'L'"
      ]
     },
     "metadata": {},
     "output_type": "display_data"
    },
    {
     "data": {
      "text/latex": [
       "$\\displaystyle \\left[\\begin{matrix}1 & 0 & 0 & 0\\\\-9.0 & 1 & 0 & 0\\\\-5.0 & 0.59469696969697 & 1 & 0\\\\-4.09090909090909 & 0.62603305785124 & -0.95765817475385 & 1\\end{matrix}\\right]$"
      ],
      "text/plain": [
       "⎡        1                 0                  0          0⎤\n",
       "⎢                                                         ⎥\n",
       "⎢      -9.0                1                  0          0⎥\n",
       "⎢                                                         ⎥\n",
       "⎢      -5.0         0.59469696969697          1          0⎥\n",
       "⎢                                                         ⎥\n",
       "⎣-4.09090909090909  0.62603305785124  -0.95765817475385  1⎦"
      ]
     },
     "metadata": {},
     "output_type": "display_data"
    },
    {
     "data": {
      "text/plain": [
       "'U'"
      ]
     },
     "metadata": {},
     "output_type": "display_data"
    },
    {
     "data": {
      "text/latex": [
       "$\\displaystyle \\left[\\begin{matrix}-0.11 & -0.36 & -0.77 & -0.33\\\\0 & -2.64 & -6.04 & -2.41\\\\0 & 0 & 0.311969696969697 & -0.706780303030303\\\\0 & 0 & 0 & 0.421885734469514\\end{matrix}\\right]$"
      ],
      "text/plain": [
       "⎡-0.11  -0.36        -0.77              -0.33       ⎤\n",
       "⎢                                                   ⎥\n",
       "⎢  0    -2.64        -6.04              -2.41       ⎥\n",
       "⎢                                                   ⎥\n",
       "⎢  0      0    0.311969696969697  -0.706780303030303⎥\n",
       "⎢                                                   ⎥\n",
       "⎣  0      0            0          0.421885734469514 ⎦"
      ]
     },
     "metadata": {},
     "output_type": "display_data"
    }
   ],
   "source": [
    "(L, U, _) = MatA.LUdecomposition()\n",
    "display(\"L\", L)\n",
    "display(\"U\", U)"
   ]
  },
  {
   "cell_type": "code",
   "execution_count": 11,
   "metadata": {},
   "outputs": [
    {
     "data": {
      "text/plain": [
       "'z'"
      ]
     },
     "metadata": {},
     "output_type": "display_data"
    },
    {
     "data": {
      "text/latex": [
       "$\\displaystyle \\left[\\begin{matrix}31.0\\\\223.0\\\\83.38258\\\\121.0648\\end{matrix}\\right]$"
      ],
      "text/plain": [
       "⎡  31.0  ⎤\n",
       "⎢        ⎥\n",
       "⎢ 223.0  ⎥\n",
       "⎢        ⎥\n",
       "⎢83.38258⎥\n",
       "⎢        ⎥\n",
       "⎣121.0648⎦"
      ]
     },
     "metadata": {},
     "output_type": "display_data"
    }
   ],
   "source": [
    "z = L.solve(MatB)\n",
    "display(\"z\", z.evalf(7))"
   ]
  },
  {
   "cell_type": "code",
   "execution_count": 12,
   "metadata": {},
   "outputs": [
    {
     "data": {
      "text/plain": [
       "'x'"
      ]
     },
     "metadata": {},
     "output_type": "display_data"
    },
    {
     "data": {
      "text/latex": [
       "$\\displaystyle \\left[\\begin{matrix}438.3981\\\\-2445.331\\\\917.4002\\\\286.9612\\end{matrix}\\right]$"
      ],
      "text/plain": [
       "⎡438.3981 ⎤\n",
       "⎢         ⎥\n",
       "⎢-2445.331⎥\n",
       "⎢         ⎥\n",
       "⎢917.4002 ⎥\n",
       "⎢         ⎥\n",
       "⎣286.9612 ⎦"
      ]
     },
     "metadata": {},
     "output_type": "display_data"
    }
   ],
   "source": [
    "x = U.solve(z)\n",
    "display(\"x\", x.evalf(7))"
   ]
  },
  {
   "cell_type": "markdown",
   "metadata": {},
   "source": [
    "### Zadanie 4 - Rozwiązanie używając solve\n"
   ]
  },
  {
   "cell_type": "code",
   "execution_count": 13,
   "metadata": {},
   "outputs": [
    {
     "data": {
      "text/latex": [
       "$\\displaystyle \\left[\\begin{matrix}438.3981\\\\-2445.331\\\\917.4002\\\\286.9612\\end{matrix}\\right]$"
      ],
      "text/plain": [
       "⎡438.3981 ⎤\n",
       "⎢         ⎥\n",
       "⎢-2445.331⎥\n",
       "⎢         ⎥\n",
       "⎢917.4002 ⎥\n",
       "⎢         ⎥\n",
       "⎣286.9612 ⎦"
      ]
     },
     "execution_count": 13,
     "metadata": {},
     "output_type": "execute_result"
    }
   ],
   "source": [
    "MatA.solve(MatB).evalf(7)"
   ]
  }
 ],
 "metadata": {
  "kernelspec": {
   "display_name": "venv",
   "language": "python",
   "name": "python3"
  },
  "language_info": {
   "codemirror_mode": {
    "name": "ipython",
    "version": 3
   },
   "file_extension": ".py",
   "mimetype": "text/x-python",
   "name": "python",
   "nbconvert_exporter": "python",
   "pygments_lexer": "ipython3",
   "version": "3.11.8"
  }
 },
 "nbformat": 4,
 "nbformat_minor": 2
}
