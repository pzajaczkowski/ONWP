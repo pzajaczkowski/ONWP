{
 "cells": [
  {
   "cell_type": "code",
   "execution_count": 2,
   "metadata": {},
   "outputs": [],
   "source": [
    "import sympy #import biblioteki sympy\n",
    "#import sympy as sp #można zdefiniować skrót polecenia (zamiast sympy będzie, można pisać sp):\n",
    "sympy.init_printing #ładniejszy wygląd symboli matematycznych podobnie jak w, latexu\n",
    "from sympy import * #po tej komendzie zamiast sympy.log lub sp.log wystarczy, napisać log\n",
    "from sympy.abc import x #x jest zmienną niezależną\n",
    "\n",
    "from sympy.matrices import Matrix"
   ]
  },
  {
   "cell_type": "code",
   "execution_count": 4,
   "metadata": {},
   "outputs": [
    {
     "data": {
      "text/latex": [
       "$\\displaystyle \\left[\\begin{matrix}-0.11 & -0.22 & -0.77 & -0.33\\\\0.34 & 0.12 & 0.89 & 0.55\\\\0.55 & 0.25 & 0.57 & -0.39\\\\0.45 & -0.18 & -0.43 & 0.64\\end{matrix}\\right]$"
      ],
      "text/plain": [
       "Matrix([\n",
       "[-0.11, -0.22, -0.77, -0.33],\n",
       "[ 0.34,  0.12,  0.89,  0.55],\n",
       "[ 0.55,  0.25,  0.57, -0.39],\n",
       "[ 0.45, -0.18, -0.43,  0.64]])"
      ]
     },
     "execution_count": 4,
     "metadata": {},
     "output_type": "execute_result"
    }
   ],
   "source": [
    "A = Matrix([[-0.11,-0.22,-0.77,-0.33], [0.34,0.12,0.89,0.55],[0.55,0.25,0.57,-0.39],[0.45,-0.18,-0.43,0.64]])\n",
    "A"
   ]
  },
  {
   "cell_type": "code",
   "execution_count": 7,
   "metadata": {},
   "outputs": [
    {
     "data": {
      "text/latex": [
       "$\\displaystyle \\left[\\begin{matrix}-21\\\\-44\\\\61\\\\54\\end{matrix}\\right]$"
      ],
      "text/plain": [
       "Matrix([\n",
       "[-21],\n",
       "[-44],\n",
       "[ 61],\n",
       "[ 54]])"
      ]
     },
     "execution_count": 7,
     "metadata": {},
     "output_type": "execute_result"
    }
   ],
   "source": [
    "b=Matrix([-21,-44,61,54])\n",
    "b"
   ]
  },
  {
   "cell_type": "markdown",
   "metadata": {},
   "source": [
    "# Zadanie 3:"
   ]
  },
  {
   "cell_type": "code",
   "execution_count": 15,
   "metadata": {},
   "outputs": [
    {
     "data": {
      "text/latex": [
       "$\\displaystyle \\left[\\begin{matrix}1 & 0 & 0 & 0\\\\-3.09090909090909 & 1 & 0 & 0\\\\-5.0 & 1.51785714285714 & 1 & 0\\\\-4.09090909090909 & 1.92857142857143 & 0.693669998246537 & 1\\end{matrix}\\right]$"
      ],
      "text/plain": [
       "Matrix([\n",
       "[                1,                0,                 0, 0],\n",
       "[-3.09090909090909,                1,                 0, 0],\n",
       "[             -5.0, 1.51785714285714,                 1, 0],\n",
       "[-4.09090909090909, 1.92857142857143, 0.693669998246537, 1]])"
      ]
     },
     "metadata": {},
     "output_type": "display_data"
    },
    {
     "data": {
      "text/latex": [
       "$\\displaystyle \\left[\\begin{matrix}-0.11 & -0.22 & -0.77 & -0.33\\\\0 & -0.56 & -1.49 & -0.47\\\\0 & 0 & -1.01839285714286 & -1.32660714285714\\\\0 & 0 & 0 & 1.11665614588813\\end{matrix}\\right]$"
      ],
      "text/plain": [
       "Matrix([\n",
       "[-0.11, -0.22,             -0.77,             -0.33],\n",
       "[    0, -0.56,             -1.49,             -0.47],\n",
       "[    0,     0, -1.01839285714286, -1.32660714285714],\n",
       "[    0,     0,                 0,  1.11665614588813]])"
      ]
     },
     "metadata": {},
     "output_type": "display_data"
    },
    {
     "data": {
      "text/plain": [
       "[]"
      ]
     },
     "metadata": {},
     "output_type": "display_data"
    }
   ],
   "source": [
    "(L,U,idk)=A.LUdecomposition()\n",
    "\n",
    "display(L)\n",
    "display(U)\n",
    "display(idk)"
   ]
  },
  {
   "cell_type": "code",
   "execution_count": 18,
   "metadata": {},
   "outputs": [
    {
     "data": {
      "text/latex": [
       "$\\displaystyle \\left[\\begin{matrix}-21.0\\\\-108.909090909091\\\\121.308441558442\\\\93.9818436867359\\end{matrix}\\right]$"
      ],
      "text/plain": [
       "Matrix([\n",
       "[            -21.0],\n",
       "[-108.909090909091],\n",
       "[ 121.308441558442],\n",
       "[ 93.9818436867359]])"
      ]
     },
     "execution_count": 18,
     "metadata": {},
     "output_type": "execute_result"
    }
   ],
   "source": [
    "z=L.solve(b)\n",
    "z"
   ]
  },
  {
   "cell_type": "code",
   "execution_count": 20,
   "metadata": {},
   "outputs": [
    {
     "data": {
      "text/latex": [
       "$\\displaystyle \\left[\\begin{matrix}74.7102368996159\\\\732.489826368403\\\\-228.753101838813\\\\84.1636380481189\\end{matrix}\\right]$"
      ],
      "text/plain": [
       "Matrix([\n",
       "[ 74.7102368996159],\n",
       "[ 732.489826368403],\n",
       "[-228.753101838813],\n",
       "[ 84.1636380481189]])"
      ]
     },
     "execution_count": 20,
     "metadata": {},
     "output_type": "execute_result"
    }
   ],
   "source": [
    "x=U.solve(z)\n",
    "x"
   ]
  },
  {
   "cell_type": "markdown",
   "metadata": {},
   "source": [
    "# Zadanie 4:"
   ]
  },
  {
   "cell_type": "code",
   "execution_count": 8,
   "metadata": {},
   "outputs": [
    {
     "data": {
      "text/latex": [
       "$\\displaystyle \\left[\\begin{matrix}74.7102368996158\\\\732.489826368403\\\\-228.753101838812\\\\84.1636380481188\\end{matrix}\\right]$"
      ],
      "text/plain": [
       "Matrix([\n",
       "[ 74.7102368996158],\n",
       "[ 732.489826368403],\n",
       "[-228.753101838812],\n",
       "[ 84.1636380481188]])"
      ]
     },
     "execution_count": 8,
     "metadata": {},
     "output_type": "execute_result"
    }
   ],
   "source": [
    "A.solve(b)"
   ]
  }
 ],
 "metadata": {
  "kernelspec": {
   "display_name": "Python 3",
   "language": "python",
   "name": "python3"
  },
  "language_info": {
   "codemirror_mode": {
    "name": "ipython",
    "version": 3
   },
   "file_extension": ".py",
   "mimetype": "text/x-python",
   "name": "python",
   "nbconvert_exporter": "python",
   "pygments_lexer": "ipython3",
   "version": "3.12.0"
  }
 },
 "nbformat": 4,
 "nbformat_minor": 2
}
