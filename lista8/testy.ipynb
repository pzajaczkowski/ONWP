{
 "cells": [
  {
   "cell_type": "code",
   "execution_count": 1,
   "metadata": {},
   "outputs": [],
   "source": [
    "import sympy\n",
    "\n",
    "sympy.init_printing\n",
    "from sympy import *\n",
    "from sympy.abc import x\n",
    "from sympy.matrices import Matrix"
   ]
  },
  {
   "cell_type": "code",
   "execution_count": 35,
   "metadata": {},
   "outputs": [
    {
     "data": {
      "text/latex": [
       "$\\displaystyle \\left[\\begin{matrix}-0.11 & -0.22 & -0.77 & -0.33\\\\0.34 & 0.12 & 0.89 & 0.55\\\\0.55 & 0.25 & 0.57 & -0.39\\\\0.45 & -0.18 & -0.43 & 0.64\\end{matrix}\\right]$"
      ],
      "text/plain": [
       "Matrix([\n",
       "[-0.11, -0.22, -0.77, -0.33],\n",
       "[ 0.34,  0.12,  0.89,  0.55],\n",
       "[ 0.55,  0.25,  0.57, -0.39],\n",
       "[ 0.45, -0.18, -0.43,  0.64]])"
      ]
     },
     "metadata": {},
     "output_type": "display_data"
    },
    {
     "data": {
      "text/latex": [
       "$\\displaystyle \\left[\\begin{matrix}-21\\\\-44\\\\61\\\\54\\end{matrix}\\right]$"
      ],
      "text/plain": [
       "Matrix([\n",
       "[-21],\n",
       "[-44],\n",
       "[ 61],\n",
       "[ 54]])"
      ]
     },
     "metadata": {},
     "output_type": "display_data"
    }
   ],
   "source": [
    "A = Matrix(\n",
    "    [\n",
    "        [-0.11, -0.22, -0.77, -0.33],\n",
    "        [0.34, 0.12, 0.89, 0.55],\n",
    "        [0.55, 0.25, 0.57, -0.39],\n",
    "        [0.45, -0.18, -0.43, 0.64],\n",
    "    ]\n",
    ")\n",
    "display(A)\n",
    "B = Matrix(4, 1, [-21, -44, 61, 54])\n",
    "display(B)"
   ]
  },
  {
   "cell_type": "code",
   "execution_count": 44,
   "metadata": {},
   "outputs": [
    {
     "data": {
      "text/latex": [
       "$\\displaystyle \\left[\\begin{matrix}-21 & -0.22 & -0.77 & -0.33\\\\-44 & 0.12 & 0.89 & 0.55\\\\61 & 0.25 & 0.57 & -0.39\\\\54 & -0.18 & -0.43 & 0.64\\end{matrix}\\right]$"
      ],
      "text/plain": [
       "Matrix([\n",
       "[-21, -0.22, -0.77, -0.33],\n",
       "[-44,  0.12,  0.89,  0.55],\n",
       "[ 61,  0.25,  0.57, -0.39],\n",
       "[ 54, -0.18, -0.43,  0.64]])"
      ]
     },
     "metadata": {},
     "output_type": "display_data"
    },
    {
     "data": {
      "text/latex": [
       "$\\displaystyle -5.23354100000001$"
      ],
      "text/plain": [
       "-5.23354100000001"
      ]
     },
     "metadata": {},
     "output_type": "display_data"
    },
    {
     "data": {
      "text/latex": [
       "$\\displaystyle \\left[\\begin{matrix}-0.11 & -21 & -0.77 & -0.33\\\\0.34 & -44 & 0.89 & 0.55\\\\0.55 & 61 & 0.57 & -0.39\\\\0.45 & 54 & -0.43 & 0.64\\end{matrix}\\right]$"
      ],
      "text/plain": [
       "Matrix([\n",
       "[-0.11, -21, -0.77, -0.33],\n",
       "[ 0.34, -44,  0.89,  0.55],\n",
       "[ 0.55,  61,  0.57, -0.39],\n",
       "[ 0.45,  54, -0.43,  0.64]])"
      ]
     },
     "metadata": {},
     "output_type": "display_data"
    },
    {
     "data": {
      "text/latex": [
       "$\\displaystyle -51.311784$"
      ],
      "text/plain": [
       "-51.3117840000000"
      ]
     },
     "metadata": {},
     "output_type": "display_data"
    },
    {
     "data": {
      "text/latex": [
       "$\\displaystyle \\left[\\begin{matrix}-0.11 & -0.22 & -21 & -0.33\\\\0.34 & 0.12 & -44 & 0.55\\\\0.55 & 0.25 & 61 & -0.39\\\\0.45 & -0.18 & 54 & 0.64\\end{matrix}\\right]$"
      ],
      "text/plain": [
       "Matrix([\n",
       "[-0.11, -0.22, -21, -0.33],\n",
       "[ 0.34,  0.12, -44,  0.55],\n",
       "[ 0.55,  0.25,  61, -0.39],\n",
       "[ 0.45, -0.18,  54,  0.64]])"
      ]
     },
     "metadata": {},
     "output_type": "display_data"
    },
    {
     "data": {
      "text/latex": [
       "$\\displaystyle 16.024427$"
      ],
      "text/plain": [
       "16.0244270000000"
      ]
     },
     "metadata": {},
     "output_type": "display_data"
    },
    {
     "data": {
      "text/latex": [
       "$\\displaystyle \\left[\\begin{matrix}-0.11 & -0.22 & -0.77 & -21\\\\0.34 & 0.12 & 0.89 & -44\\\\0.55 & 0.25 & 0.57 & 61\\\\0.45 & -0.18 & -0.43 & 54\\end{matrix}\\right]$"
      ],
      "text/plain": [
       "Matrix([\n",
       "[-0.11, -0.22, -0.77, -21],\n",
       "[ 0.34,  0.12,  0.89, -44],\n",
       "[ 0.55,  0.25,  0.57,  61],\n",
       "[ 0.45, -0.18, -0.43,  54]])"
      ]
     },
     "metadata": {},
     "output_type": "display_data"
    },
    {
     "data": {
      "text/latex": [
       "$\\displaystyle -5.895763$"
      ],
      "text/plain": [
       "-5.89576300000000"
      ]
     },
     "metadata": {},
     "output_type": "display_data"
    },
    {
     "data": {
      "text/latex": [
       "$\\displaystyle \\left[\\begin{matrix}74.7102368996159\\\\732.489826368402\\\\-228.753101838812\\\\84.1636380481188\\end{matrix}\\right]$"
      ],
      "text/plain": [
       "Matrix([\n",
       "[ 74.7102368996159],\n",
       "[ 732.489826368402],\n",
       "[-228.753101838812],\n",
       "[ 84.1636380481188]])"
      ]
     },
     "metadata": {},
     "output_type": "display_data"
    }
   ],
   "source": [
    "# ZAD 1\n",
    "cramer = []\n",
    "for j in range(0, 4):\n",
    "    xd = A.copy()\n",
    "    xd[:, j] = b\n",
    "    display(xd, xd.det())\n",
    "    cramer.append(xd.det() / A.det())\n",
    "\n",
    "cramer = Matrix(cramer)\n",
    "display(cramer)"
   ]
  },
  {
   "cell_type": "code",
   "execution_count": 42,
   "metadata": {},
   "outputs": [
    {
     "data": {
      "text/latex": [
       "$\\displaystyle \\left[\\begin{matrix}-0.11 & -0.22 & -0.77 & -0.33\\\\0.34 & 0.12 & 0.89 & 0.55\\\\0.55 & 0.25 & 0.57 & -0.39\\\\0.45 & -0.18 & -0.43 & 0.64\\end{matrix}\\right]$"
      ],
      "text/plain": [
       "Matrix([\n",
       "[-0.11, -0.22, -0.77, -0.33],\n",
       "[ 0.34,  0.12,  0.89,  0.55],\n",
       "[ 0.55,  0.25,  0.57, -0.39],\n",
       "[ 0.45, -0.18, -0.43,  0.64]])"
      ]
     },
     "metadata": {},
     "output_type": "display_data"
    },
    {
     "data": {
      "text/plain": [
       "(4, 4)"
      ]
     },
     "metadata": {},
     "output_type": "display_data"
    },
    {
     "data": {
      "text/plain": [
       "'Det A: -0.0700511900000001'"
      ]
     },
     "metadata": {},
     "output_type": "display_data"
    },
    {
     "data": {
      "text/plain": [
       "'A transpose'"
      ]
     },
     "metadata": {},
     "output_type": "display_data"
    },
    {
     "data": {
      "text/latex": [
       "$\\displaystyle \\left[\\begin{matrix}-0.11 & 0.34 & 0.55 & 0.45\\\\-0.22 & 0.12 & 0.25 & -0.18\\\\-0.77 & 0.89 & 0.57 & -0.43\\\\-0.33 & 0.55 & -0.39 & 0.64\\end{matrix}\\right]$"
      ],
      "text/plain": [
       "Matrix([\n",
       "[-0.11, 0.34,  0.55,  0.45],\n",
       "[-0.22, 0.12,  0.25, -0.18],\n",
       "[-0.77, 0.89,  0.57, -0.43],\n",
       "[-0.33, 0.55, -0.39,  0.64]])"
      ]
     },
     "metadata": {},
     "output_type": "display_data"
    },
    {
     "data": {
      "text/plain": [
       "'Ad'"
      ]
     },
     "metadata": {},
     "output_type": "display_data"
    },
    {
     "data": {
      "text/latex": [
       "$\\displaystyle \\left[\\begin{matrix}-0.058965 & -0.027401 & -0.077814 & -0.054274\\\\0.673611 & 0.547184 & -0.068717 & -0.16478\\\\-0.149093 & -0.175967 & 0.0121 & 0.081719\\\\0.130741 & 0.054934 & 0.043516 & -0.062733\\end{matrix}\\right]$"
      ],
      "text/plain": [
       "Matrix([\n",
       "[-0.058965, -0.027401, -0.077814, -0.054274],\n",
       "[ 0.673611,  0.547184, -0.068717,  -0.16478],\n",
       "[-0.149093, -0.175967,    0.0121,  0.081719],\n",
       "[ 0.130741,  0.054934,  0.043516, -0.062733]])"
      ]
     },
     "metadata": {},
     "output_type": "display_data"
    },
    {
     "data": {
      "text/plain": [
       "'A*-1'"
      ]
     },
     "metadata": {},
     "output_type": "display_data"
    },
    {
     "data": {
      "text/latex": [
       "$\\displaystyle \\left[\\begin{matrix}0.841741589257798 & 0.391156809755837 & 1.11081624737567 & 0.774776274321678\\\\-9.61598225526218 & -7.81120206523258 & 0.980954070873028 & 2.35227981137794\\\\2.12834357275015 & 2.51197731259098 & -0.172730827270743 & -1.16656119617668\\\\-1.86636372629787 & -0.784197955809173 & -0.621202866075508 & 0.895530825386406\\end{matrix}\\right]$"
      ],
      "text/plain": [
       "Matrix([\n",
       "[0.841741589257798,  0.391156809755837,   1.11081624737567, 0.774776274321678],\n",
       "[-9.61598225526218,  -7.81120206523258,  0.980954070873028,  2.35227981137794],\n",
       "[ 2.12834357275015,   2.51197731259098, -0.172730827270743, -1.16656119617668],\n",
       "[-1.86636372629787, -0.784197955809173, -0.621202866075508, 0.895530825386406]])"
      ]
     },
     "metadata": {},
     "output_type": "display_data"
    },
    {
     "data": {
      "text/plain": [
       "'X'"
      ]
     },
     "metadata": {},
     "output_type": "display_data"
    },
    {
     "data": {
      "text/latex": [
       "$\\displaystyle \\left[\\begin{matrix}74.7102368996158\\\\732.489826368402\\\\-228.753101838812\\\\84.1636380481188\\end{matrix}\\right]$"
      ],
      "text/plain": [
       "Matrix([\n",
       "[ 74.7102368996158],\n",
       "[ 732.489826368402],\n",
       "[-228.753101838812],\n",
       "[ 84.1636380481188]])"
      ]
     },
     "metadata": {},
     "output_type": "display_data"
    }
   ],
   "source": [
    "# ZAD2\n",
    "# Eg: A = Matrix([[2,3,0],[1,-1,1],[5,0,2]] B = Matrix(3,1, [2,-1,1])\n",
    "display(A)\n",
    "sh = shape(A)\n",
    "display(sh)\n",
    "detA = det(A)\n",
    "display(\"Det A: \" + str(detA))\n",
    "\n",
    "AT = A.transpose()\n",
    "display(\"A transpose\")\n",
    "display(AT)\n",
    "\n",
    "d = []\n",
    "for i in range(sh[0]):\n",
    "    for j in range(sh[1]):\n",
    "        ATij = AT.copy()\n",
    "        ATij.row_del(i)\n",
    "        ATij.col_del(j)\n",
    "        d.append((-1) ** (i + j + 2) * det(ATij))\n",
    "Ad = Matrix(sh[0], sh[1], d)\n",
    "display(\"Ad\")\n",
    "display(Ad)\n",
    "\n",
    "Aod = Ad / detA\n",
    "display(\"A*-1\")\n",
    "# display(Aod.evalf(5))\n",
    "display(Aod)\n",
    "\n",
    "X = Aod * B\n",
    "display(\"X\")\n",
    "display(X)"
   ]
  },
  {
   "cell_type": "code",
   "execution_count": 49,
   "metadata": {},
   "outputs": [
    {
     "data": {
      "text/plain": [
       "(Matrix([\n",
       " [                1,                0,                 0, 0],\n",
       " [-3.09090909090909,                1,                 0, 0],\n",
       " [             -5.0, 1.51785714285714,                 1, 0],\n",
       " [-4.09090909090909, 1.92857142857143, 0.693669998246537, 1]]),\n",
       " Matrix([\n",
       " [-0.11, -0.22,             -0.77,             -0.33],\n",
       " [    0, -0.56,             -1.49,             -0.47],\n",
       " [    0,     0, -1.01839285714286, -1.32660714285714],\n",
       " [    0,     0,                 0,  1.11665614588813]]),\n",
       " [])"
      ]
     },
     "execution_count": 49,
     "metadata": {},
     "output_type": "execute_result"
    }
   ],
   "source": [
    "# ZAD 3\n",
    "A.LUdecomposition()"
   ]
  },
  {
   "cell_type": "code",
   "execution_count": 48,
   "metadata": {},
   "outputs": [
    {
     "data": {
      "text/latex": [
       "$\\displaystyle \\left[\\begin{matrix}74.7102368996158\\\\732.489826368403\\\\-228.753101838812\\\\84.1636380481188\\end{matrix}\\right]$"
      ],
      "text/plain": [
       "Matrix([\n",
       "[ 74.7102368996158],\n",
       "[ 732.489826368403],\n",
       "[-228.753101838812],\n",
       "[ 84.1636380481188]])"
      ]
     },
     "execution_count": 48,
     "metadata": {},
     "output_type": "execute_result"
    }
   ],
   "source": [
    "# ZAD 4\n",
    "A.solve(B)"
   ]
  }
 ],
 "metadata": {
  "kernelspec": {
   "display_name": ".venv",
   "language": "python",
   "name": "python3"
  },
  "language_info": {
   "codemirror_mode": {
    "name": "ipython",
    "version": 3
   },
   "file_extension": ".py",
   "mimetype": "text/x-python",
   "name": "python",
   "nbconvert_exporter": "python",
   "pygments_lexer": "ipython3",
   "version": "3.12.2"
  }
 },
 "nbformat": 4,
 "nbformat_minor": 2
}
