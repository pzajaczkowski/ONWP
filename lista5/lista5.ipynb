{
 "cells": [
  {
   "cell_type": "code",
   "execution_count": 3,
   "metadata": {},
   "outputs": [],
   "source": [
    "from sympy import (\n",
    "    symbols,\n",
    "    init_printing,\n",
    "    Integral,\n",
    "    cos,\n",
    "    sin,\n",
    "    Eq,\n",
    "    solve,\n",
    "    pi,\n",
    "    sqrt,\n",
    "    integrate,\n",
    "    And,\n",
    "    E,\n",
    "    plot,\n",
    "    exp,\n",
    ")\n",
    "from sympy.plotting import plot_implicit\n",
    "\n",
    "x, y, z, r, t = symbols(\"x y z r t\", real=True)\n",
    "init_printing(use_unicode=True)"
   ]
  },
  {
   "cell_type": "code",
   "execution_count": 4,
   "metadata": {},
   "outputs": [
    {
     "data": {
      "image/png": "[encoded data removed]",
      "text/plain": [
       "<Figure size 640x480 with 1 Axes>"
      ]
     },
     "metadata": {},
     "output_type": "display_data"
    }
   ],
   "source": [
    "p = plot_implicit(\n",
    "    And(x > 0, y > 0, 3 * x + 6 * y < 12),\n",
    "    line_color=\"red\",\n",
    "    xlabel=\"os x\",\n",
    "    ylabel=\"os y\",\n",
    "    show=False,\n",
    ")\n",
    "p.show()"
   ]
  },
  {
   "cell_type": "markdown",
   "metadata": {},
   "source": [
    "`3*x+6*y+4*z=12`\n",
    "dla `z=0` : `3*x+6*y=12`\n",
    "`y = 2-0.5*x`\n",
    "dla `y=0` : `x = 4`\n"
   ]
  },
  {
   "cell_type": "code",
   "execution_count": 5,
   "metadata": {},
   "outputs": [
    {
     "data": {
      "image/png": "[encoded data removed]",
      "text/latex": [
       "$\\displaystyle \\int\\limits_{0}^{4}\\int\\limits_{0}^{2 - 0.5 x}\\int\\limits_{0}^{- 0.75 x - 1.5 y + 3} 1\\, dz\\, dy\\, dx$"
      ],
      "text/plain": [
       "4 2 - 0.5⋅x -0.75⋅x - 1.5⋅y + 3           \n",
       "⌠     ⌠              ⌠                    \n",
       "⎮     ⎮              ⎮          1 dz dy dx\n",
       "⌡     ⌡              ⌡                    \n",
       "0     0              0                    "
      ]
     },
     "metadata": {},
     "output_type": "display_data"
    },
    {
     "data": {
      "image/png": "[encoded data removed]",
      "text/latex": [
       "$\\displaystyle 4.0$"
      ],
      "text/plain": [
       "4.00000000000000"
      ]
     },
     "execution_count": 5,
     "metadata": {},
     "output_type": "execute_result"
    }
   ],
   "source": [
    "integ = Integral(\n",
    "    1, (z, 0, 3 - (3 / 4) * x - (6 / 4) * y), (y, 0, 2 - 1 / 2 * x), (x, 0, 4)\n",
    ")\n",
    "display(integ)\n",
    "integ.doit()"
   ]
  }
 ],
 "metadata": {
  "kernelspec": {
   "display_name": "venv",
   "language": "python",
   "name": "python3"
  },
  "language_info": {
   "codemirror_mode": {
    "name": "ipython",
    "version": 3
   },
   "file_extension": ".py",
   "mimetype": "text/x-python",
   "name": "python",
   "nbconvert_exporter": "python",
   "pygments_lexer": "ipython3",
   "version": "3.11.8"
  }
 },
 "nbformat": 4,
 "nbformat_minor": 2
}
