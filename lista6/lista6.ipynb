{
 "cells": [
  {
   "cell_type": "markdown",
   "metadata": {},
   "source": [
    "# Lista 6\n"
   ]
  },
  {
   "cell_type": "code",
   "execution_count": null,
   "metadata": {},
   "outputs": [],
   "source": [
    "from sympy import (\n",
    "    symbols,\n",
    "    init_printing,\n",
    "    Integral,\n",
    "    cos,\n",
    "    sin,\n",
    "    Eq,\n",
    "    solve,\n",
    "    pi,\n",
    "    sqrt,\n",
    "    integrate,\n",
    "    And,\n",
    "    E,\n",
    "    plot,\n",
    "    exp,\n",
    ")\n",
    "from sympy.plotting import plot_implicit\n",
    "\n",
    "x, y, z, r, t, k = symbols(\"x y z r t, k\", real=True)\n",
    "init_printing(use_unicode=True)"
   ]
  }
 ],
 "metadata": {
  "language_info": {
   "name": "python"
  }
 },
 "nbformat": 4,
 "nbformat_minor": 2
}
