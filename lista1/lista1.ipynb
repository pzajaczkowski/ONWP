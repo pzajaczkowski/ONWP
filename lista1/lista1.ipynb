{
 "cells": [
  {
   "cell_type": "markdown",
   "metadata": {},
   "source": [
    "## Lista 1"
   ]
  },
  {
   "cell_type": "code",
   "execution_count": 468,
   "metadata": {},
   "outputs": [],
   "source": [
    "import sympy as sp\n",
    "from sympy.calculus.util import continuous_domain\n",
    "sp.init_printing()"
   ]
  },
  {
   "cell_type": "code",
   "execution_count": 469,
   "metadata": {},
   "outputs": [
    {
     "data": {
      "image/png": "[encoded data removed]",
      "text/latex": [
       "$\\displaystyle e^{\\operatorname{atan}{\\left(x \\right)}}$"
      ],
      "text/plain": [
       " atan(x)\n",
       "ℯ       "
      ]
     },
     "execution_count": 469,
     "metadata": {},
     "output_type": "execute_result"
    }
   ],
   "source": [
    "x = sp.symbols('x')\n",
    "fun = sp.exp(sp.atan(x))\n",
    "fun\n"
   ]
  },
  {
   "cell_type": "markdown",
   "metadata": {},
   "source": [
    "### Zadanie 1\n",
    "\n",
    "Dziedzina funkcji to liczby rzeczywiste (-oo, +oo)"
   ]
  },
  {
   "cell_type": "code",
   "execution_count": 470,
   "metadata": {},
   "outputs": [
    {
     "data": {
      "image/png": "[encoded data removed]",
      "text/latex": [
       "$\\displaystyle \\mathbb{R}$"
      ],
      "text/plain": [
       "ℝ"
      ]
     },
     "execution_count": 470,
     "metadata": {},
     "output_type": "execute_result"
    }
   ],
   "source": [
    "# dziedzina\n",
    "domain = continuous_domain(fun, x, sp.S.Reals)\n",
    "domain"
   ]
  },
  {
   "cell_type": "code",
   "execution_count": 471,
   "metadata": {},
   "outputs": [],
   "source": [
    "# asymptoty pionowe w miejscach nieciągłości funkcji (punkt poi)\n",
    "# asymptote_ver_minus = sp.limit(fun, x, poi, dir='-')\n",
    "# asymptote_ver_plus = sp.limit(fun, x, poi, dir='+')\n",
    "# +/- oo oznacza asymptote z tej strony do + lub - nieskończoności\n",
    "\n",
    "# asymptoty poziome\n",
    "asymptote_hor_minus = sp.limit(fun, x, -sp.oo)\n",
    "asymptote_hor_plus = sp.limit(fun, x, sp.oo)\n",
    "\n",
    "# asymptoty ukośne y=ax+b am==ap to obustronne\n",
    "am = sp.limit(fun/x, x, -sp.oo)\n",
    "ap = sp.limit(fun/x, x, sp.oo)\n",
    "\n",
    "# bm=bp to obustronne\n",
    "bm = sp.limit(fun-ap*x, x, sp.oo)\n",
    "bp = sp.limit(fun-ap*x, x, +sp.oo)\n",
    "bm\n",
    "\n",
    "# jeżeli nie ma ukośnych to one będą równe poziomym\n",
    "y1 = ap*x-bp\n",
    "y2 = am*x-bm"
   ]
  },
  {
   "cell_type": "markdown",
   "metadata": {},
   "source": [
    "### Zadanie 2"
   ]
  },
  {
   "cell_type": "code",
   "execution_count": 472,
   "metadata": {},
   "outputs": [
    {
     "data": {
      "image/png": "[encoded data removed]",
      "text/plain": [
       "<Figure size 640x480 with 1 Axes>"
      ]
     },
     "metadata": {},
     "output_type": "display_data"
    }
   ],
   "source": [
    "pl = sp.plot(fun, asymptote_hor_minus, asymptote_hor_plus, ylim=[-5,5])"
   ]
  },
  {
   "cell_type": "code",
   "execution_count": 473,
   "metadata": {},
   "outputs": [
    {
     "data": {
      "image/png": "[encoded data removed]",
      "text/latex": [
       "$\\displaystyle \\left[ \\right]$"
      ],
      "text/plain": [
       "[]"
      ]
     },
     "execution_count": 473,
     "metadata": {},
     "output_type": "execute_result"
    }
   ],
   "source": [
    "# miejsca zerowe\n",
    "zeros = sp.solve(fun)\n",
    "zeros"
   ]
  },
  {
   "cell_type": "code",
   "execution_count": 474,
   "metadata": {},
   "outputs": [
    {
     "data": {
      "text/plain": [
       "False"
      ]
     },
     "execution_count": 474,
     "metadata": {},
     "output_type": "execute_result"
    }
   ],
   "source": [
    "# parzystość\n",
    "mfun = fun.subs(x,-x)\n",
    "is_even = fun == mfun\n",
    "is_even"
   ]
  },
  {
   "cell_type": "code",
   "execution_count": 475,
   "metadata": {},
   "outputs": [
    {
     "data": {
      "text/plain": [
       "False"
      ]
     },
     "execution_count": 475,
     "metadata": {},
     "output_type": "execute_result"
    }
   ],
   "source": [
    "# nieparzystość\n",
    "mfun = fun.subs(x,-x)\n",
    "is_odd = fun == -mfun\n",
    "is_odd"
   ]
  },
  {
   "cell_type": "code",
   "execution_count": 476,
   "metadata": {},
   "outputs": [
    {
     "data": {
      "text/plain": [
       "False"
      ]
     },
     "execution_count": 476,
     "metadata": {},
     "output_type": "execute_result"
    }
   ],
   "source": [
    "# okresowość - niesprawdzona\n",
    "t = sp.symbols('t')\n",
    "pfun = fun.subs(x, x+t)\n",
    "pfun.simplify() # trigsimp for trigonometric \n",
    "is_periodic = pfun == fun\n",
    "is_periodic"
   ]
  },
  {
   "cell_type": "markdown",
   "metadata": {},
   "source": [
    "### Zadanie 3"
   ]
  },
  {
   "cell_type": "code",
   "execution_count": 477,
   "metadata": {},
   "outputs": [
    {
     "data": {
      "image/png": "[encoded data removed]",
      "text/latex": [
       "$\\displaystyle \\frac{e^{\\operatorname{atan}{\\left(x \\right)}}}{x^{2} + 1}$"
      ],
      "text/plain": [
       " atan(x)\n",
       "ℯ       \n",
       "────────\n",
       "  2     \n",
       " x  + 1 "
      ]
     },
     "execution_count": 477,
     "metadata": {},
     "output_type": "execute_result"
    }
   ],
   "source": [
    "fd1 = sp.diff(fun, x)\n",
    "fd1.simplify()"
   ]
  },
  {
   "cell_type": "code",
   "execution_count": 478,
   "metadata": {},
   "outputs": [
    {
     "data": {
      "image/png": "[encoded data removed]",
      "text/latex": [
       "$\\displaystyle \\frac{\\left(1 - 2 x\\right) e^{\\operatorname{atan}{\\left(x \\right)}}}{\\left(x^{2} + 1\\right)^{2}}$"
      ],
      "text/plain": [
       "           atan(x)\n",
       "(1 - 2⋅x)⋅ℯ       \n",
       "──────────────────\n",
       "            2     \n",
       "    ⎛ 2    ⎞      \n",
       "    ⎝x  + 1⎠      "
      ]
     },
     "execution_count": 478,
     "metadata": {},
     "output_type": "execute_result"
    }
   ],
   "source": [
    "fd2 = sp.diff(fd1, x) # or fd2 = sp.diff(fun, x, x)\n",
    "fd2.simplify()"
   ]
  },
  {
   "cell_type": "code",
   "execution_count": 479,
   "metadata": {},
   "outputs": [
    {
     "data": {
      "image/png": "[encoded data removed]",
      "text/latex": [
       "$\\displaystyle \\frac{\\left(6 x^{2} - 6 x - 1\\right) e^{\\operatorname{atan}{\\left(x \\right)}}}{\\left(x^{2} + 1\\right)^{3}}$"
      ],
      "text/plain": [
       "⎛   2          ⎞  atan(x)\n",
       "⎝6⋅x  - 6⋅x - 1⎠⋅ℯ       \n",
       "─────────────────────────\n",
       "                3        \n",
       "        ⎛ 2    ⎞         \n",
       "        ⎝x  + 1⎠         "
      ]
     },
     "execution_count": 479,
     "metadata": {},
     "output_type": "execute_result"
    }
   ],
   "source": [
    "fd3 = sp.diff(fd2, x) # or fd3 = sp.diff(fun, x, x, x)\n",
    "fd3.simplify()"
   ]
  },
  {
   "cell_type": "code",
   "execution_count": 480,
   "metadata": {},
   "outputs": [
    {
     "data": {
      "image/png": "[encoded data removed]",
      "text/latex": [
       "$\\displaystyle \\frac{\\left(- 48 x^{3} + 44 x^{2} - 12 x + 8 \\cdot \\left(3 x - 1\\right) \\left(x^{2} + 1\\right) + 1\\right) e^{\\operatorname{atan}{\\left(x \\right)}}}{\\left(x^{2} + 1\\right)^{4}}$"
      ],
      "text/plain": [
       "⎛      3       2                      ⎛ 2    ⎞    ⎞  atan(x)\n",
       "⎝- 48⋅x  + 44⋅x  - 12⋅x + 8⋅(3⋅x - 1)⋅⎝x  + 1⎠ + 1⎠⋅ℯ       \n",
       "────────────────────────────────────────────────────────────\n",
       "                                 4                          \n",
       "                         ⎛ 2    ⎞                           \n",
       "                         ⎝x  + 1⎠                           "
      ]
     },
     "execution_count": 480,
     "metadata": {},
     "output_type": "execute_result"
    }
   ],
   "source": [
    "fd4 = sp.diff(fd3, x) # or fd4 = sp.diff(fun, x, x, x, x)\n",
    "fd4.simplify()"
   ]
  },
  {
   "cell_type": "code",
   "execution_count": 481,
   "metadata": {},
   "outputs": [
    {
     "data": {
      "image/png": "[encoded data removed]",
      "text/latex": [
       "$\\displaystyle 1.035144$"
      ],
      "text/plain": [
       "1.035144"
      ]
     },
     "execution_count": 481,
     "metadata": {},
     "output_type": "execute_result"
    }
   ],
   "source": [
    "odp1 = fd1.subs(x, 1.11)\n",
    "odp1.evalf(7)"
   ]
  },
  {
   "cell_type": "markdown",
   "metadata": {},
   "source": [
    "### Zadanie 4"
   ]
  },
  {
   "cell_type": "code",
   "execution_count": 482,
   "metadata": {},
   "outputs": [
    {
     "data": {
      "image/png": "[encoded data removed]",
      "text/latex": [
       "$\\displaystyle -\\infty < x \\wedge x < \\infty$"
      ],
      "text/plain": [
       "-∞ < x ∧ x < ∞"
      ]
     },
     "execution_count": 482,
     "metadata": {},
     "output_type": "execute_result"
    }
   ],
   "source": [
    "sp.solve(fd1>0) # rosnąca"
   ]
  },
  {
   "cell_type": "code",
   "execution_count": 483,
   "metadata": {},
   "outputs": [
    {
     "data": {
      "image/png": "[encoded data removed]",
      "text/latex": [
       "$\\displaystyle \\text{False}$"
      ],
      "text/plain": [
       "False"
      ]
     },
     "execution_count": 483,
     "metadata": {},
     "output_type": "execute_result"
    }
   ],
   "source": [
    "sp.solve(fd1<0) # malejąca"
   ]
  },
  {
   "cell_type": "markdown",
   "metadata": {},
   "source": [
    "Funkcja jest rosnąca na całej dziedzinie"
   ]
  },
  {
   "cell_type": "markdown",
   "metadata": {},
   "source": [
    "### Zadanie 5"
   ]
  },
  {
   "cell_type": "code",
   "execution_count": 484,
   "metadata": {},
   "outputs": [
    {
     "data": {
      "image/png": "[encoded data removed]",
      "text/latex": [
       "$\\displaystyle \\left[ \\right]$"
      ],
      "text/plain": [
       "[]"
      ]
     },
     "execution_count": 484,
     "metadata": {},
     "output_type": "execute_result"
    }
   ],
   "source": [
    "df1_zeros = sp.solve(fd1, x)\n",
    "df1_zeros"
   ]
  },
  {
   "cell_type": "markdown",
   "metadata": {},
   "source": [
    "funkcja nie ma ekstremów w dziedzinie, chyba że bierze się pod uwagę nieskończoności to wtedy są to wartości asymptot poziomych"
   ]
  },
  {
   "cell_type": "markdown",
   "metadata": {},
   "source": [
    "### Zadanie 6"
   ]
  },
  {
   "cell_type": "code",
   "execution_count": 485,
   "metadata": {},
   "outputs": [
    {
     "data": {
      "image/png": "[encoded data removed]",
      "text/latex": [
       "$\\displaystyle -\\infty < x \\wedge x < \\frac{1}{2}$"
      ],
      "text/plain": [
       "-∞ < x ∧ x < 1/2"
      ]
     },
     "execution_count": 485,
     "metadata": {},
     "output_type": "execute_result"
    }
   ],
   "source": [
    "sp.solve(fd2>0, x)"
   ]
  },
  {
   "cell_type": "code",
   "execution_count": 486,
   "metadata": {},
   "outputs": [
    {
     "data": {
      "image/png": "[encoded data removed]",
      "text/latex": [
       "$\\displaystyle \\frac{1}{2} < x \\wedge x < \\infty$"
      ],
      "text/plain": [
       "1/2 < x ∧ x < ∞"
      ]
     },
     "execution_count": 486,
     "metadata": {},
     "output_type": "execute_result"
    }
   ],
   "source": [
    "sp.solve(fd2<0, x)"
   ]
  },
  {
   "cell_type": "markdown",
   "metadata": {},
   "source": [
    "### Zadanie 7"
   ]
  },
  {
   "cell_type": "code",
   "execution_count": 487,
   "metadata": {},
   "outputs": [
    {
     "name": "stdout",
     "output_type": "stream",
     "text": [
      "True\n"
     ]
    },
    {
     "data": {
      "image/png": "[encoded data removed]",
      "text/latex": [
       "$\\displaystyle \\frac{1}{2}$"
      ],
      "text/plain": [
       "1/2"
      ]
     },
     "execution_count": 487,
     "metadata": {},
     "output_type": "execute_result"
    }
   ],
   "source": [
    "pp = sp.solve(fd2, x)[0]\n",
    "print((fd2.subs(x, pp-1)>0) == (fd2.subs(x, pp+1)<0)) # zmienia się znak więc prawda\n",
    "pp\n"
   ]
  },
  {
   "cell_type": "markdown",
   "metadata": {},
   "source": [
    "### Zadanie 8"
   ]
  },
  {
   "cell_type": "code",
   "execution_count": 492,
   "metadata": {},
   "outputs": [
    {
     "data": {
      "image/png": "[encoded data removed]",
      "text/plain": [
       "<Figure size 640x480 with 1 Axes>"
      ]
     },
     "metadata": {},
     "output_type": "display_data"
    }
   ],
   "source": [
    "p1 = sp.plot(fun,0, (x, 0, 8), show=False)\n",
    "line1 = sp.plot_implicit(sp.Eq(x, 1), (x, 0, 8), line_color='r', show=False)\n",
    "line2 = sp.plot_implicit(sp.Eq(x, 7), (x, 0, 8), line_color='g', show=False)\n",
    "p1.extend(line1)\n",
    "p1.extend(line2)\n",
    "p1.show()"
   ]
  }
 ],
 "metadata": {
  "kernelspec": {
   "display_name": "venv",
   "language": "python",
   "name": "python3"
  },
  "language_info": {
   "codemirror_mode": {
    "name": "ipython",
    "version": 3
   },
   "file_extension": ".py",
   "mimetype": "text/x-python",
   "name": "python",
   "nbconvert_exporter": "python",
   "pygments_lexer": "ipython3",
   "version": "3.11.8"
  }
 },
 "nbformat": 4,
 "nbformat_minor": 2
}
