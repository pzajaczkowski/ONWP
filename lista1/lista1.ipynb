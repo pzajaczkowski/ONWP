{
 "cells": [
  {
   "cell_type": "markdown",
   "metadata": {},
   "source": [
    "## Lista 1"
   ]
  },
  {
   "cell_type": "code",
   "execution_count": 1,
   "metadata": {},
   "outputs": [],
   "source": [
    "import sympy as sp\n",
    "from sympy.calculus.util import continuous_domain\n",
    "sp.init_printing()"
   ]
  },
  {
   "cell_type": "code",
   "execution_count": 2,
   "metadata": {},
   "outputs": [
    {
     "data": {
      "image/png": "[encoded data removed]",
      "text/latex": [
       "$\\displaystyle e^{\\operatorname{atan}{\\left(x \\right)}}$"
      ],
      "text/plain": [
       " atan(x)\n",
       "ℯ       "
      ]
     },
     "execution_count": 2,
     "metadata": {},
     "output_type": "execute_result"
    }
   ],
   "source": [
    "x = sp.symbols('x')\n",
    "fun = sp.exp(sp.atan(x))\n",
    "fun\n"
   ]
  },
  {
   "cell_type": "markdown",
   "metadata": {},
   "source": [
    "### Zadanie 1\n",
    "\n",
    "Dziedzina funkcji to liczby rzeczywiste (-oo, +oo)"
   ]
  },
  {
   "cell_type": "code",
   "execution_count": 3,
   "metadata": {},
   "outputs": [
    {
     "data": {
      "image/png": "[encoded data removed]",
      "text/latex": [
       "$\\displaystyle \\mathbb{R}$"
      ],
      "text/plain": [
       "ℝ"
      ]
     },
     "execution_count": 3,
     "metadata": {},
     "output_type": "execute_result"
    }
   ],
   "source": [
    "# dziedzina\n",
    "domain = continuous_domain(fun, x, sp.S.Reals)\n",
    "domain"
   ]
  },
  {
   "cell_type": "code",
   "execution_count": 4,
   "metadata": {},
   "outputs": [],
   "source": [
    "# asymptoty pionowe w miejscach nieciągłości funkcji (punkt poi)\n",
    "# asymptote_ver_minus = sp.limit(fun, x, poi, dir='-')\n",
    "# asymptote_ver_plus = sp.limit(fun, x, poi, dir='+')\n",
    "# +/- oo oznacza asymptote z tej strony do + lub - nieskończoności\n",
    "\n",
    "# asymptoty poziome\n",
    "asymptote_hor_minus = sp.limit(fun, x, -sp.oo)\n",
    "asymptote_hor_plus = sp.limit(fun, x, sp.oo)\n",
    "\n",
    "# asymptoty ukośne y=ax+b am==ap to obustronne\n",
    "am = sp.limit(fun/x, x, -sp.oo)\n",
    "ap = sp.limit(fun/x, x, sp.oo)\n",
    "\n",
    "# bm=bp to obustronne\n",
    "bm = sp.limit(fun-ap*x, x, sp.oo)\n",
    "bp = sp.limit(fun-ap*x, x, +sp.oo)\n",
    "bm\n",
    "\n",
    "# jeżeli nie ma ukośnych to one będą równe poziomym\n",
    "y1 = ap*x-bp\n",
    "y2 = am*x-bm"
   ]
  },
  {
   "cell_type": "markdown",
   "metadata": {},
   "source": [
    "### Zadanie 2"
   ]
  },
  {
   "cell_type": "code",
   "execution_count": 5,
   "metadata": {},
   "outputs": [
    {
     "data": {
      "image/png": "[encoded data removed]",
      "text/plain": [
       "<Figure size 640x480 with 1 Axes>"
      ]
     },
     "metadata": {},
     "output_type": "display_data"
    }
   ],
   "source": [
    "pl = sp.plot(fun, asymptote_hor_minus, asymptote_hor_plus, ylim=[-5,5])"
   ]
  },
  {
   "cell_type": "code",
   "execution_count": 6,
   "metadata": {},
   "outputs": [
    {
     "data": {
      "image/png": "[encoded data removed]",
      "text/latex": [
       "$\\displaystyle \\left[ \\right]$"
      ],
      "text/plain": [
       "[]"
      ]
     },
     "execution_count": 6,
     "metadata": {},
     "output_type": "execute_result"
    }
   ],
   "source": [
    "# miejsca zerowe\n",
    "zeros = sp.solve(fun)\n",
    "zeros"
   ]
  },
  {
   "cell_type": "code",
   "execution_count": 7,
   "metadata": {},
   "outputs": [
    {
     "data": {
      "text/plain": [
       "False"
      ]
     },
     "execution_count": 7,
     "metadata": {},
     "output_type": "execute_result"
    }
   ],
   "source": [
    "# parzystość\n",
    "mfun = fun.subs(x,-x)\n",
    "is_even = fun == mfun\n",
    "is_even"
   ]
  },
  {
   "cell_type": "code",
   "execution_count": 8,
   "metadata": {},
   "outputs": [
    {
     "data": {
      "text/plain": [
       "False"
      ]
     },
     "execution_count": 8,
     "metadata": {},
     "output_type": "execute_result"
    }
   ],
   "source": [
    "# nieparzystość\n",
    "mfun = fun.subs(x,-x)\n",
    "is_odd = fun == -mfun\n",
    "is_odd"
   ]
  },
  {
   "cell_type": "code",
   "execution_count": 9,
   "metadata": {},
   "outputs": [
    {
     "data": {
      "text/plain": [
       "False"
      ]
     },
     "execution_count": 9,
     "metadata": {},
     "output_type": "execute_result"
    }
   ],
   "source": [
    "# okresowość - niesprawdzona\n",
    "t = sp.symbols('t')\n",
    "pfun = fun.subs(x, x+t)\n",
    "pfun.simplify() # trigsimp for trigonometric \n",
    "is_periodic = pfun == fun\n",
    "is_periodic"
   ]
  },
  {
   "cell_type": "markdown",
   "metadata": {},
   "source": [
    "### Zadanie 3"
   ]
  },
  {
   "cell_type": "code",
   "execution_count": 10,
   "metadata": {},
   "outputs": [
    {
     "data": {
      "image/png": "[encoded data removed]",
      "text/latex": [
       "$\\displaystyle \\frac{e^{\\operatorname{atan}{\\left(x \\right)}}}{x^{2} + 1}$"
      ],
      "text/plain": [
       " atan(x)\n",
       "ℯ       \n",
       "────────\n",
       "  2     \n",
       " x  + 1 "
      ]
     },
     "execution_count": 10,
     "metadata": {},
     "output_type": "execute_result"
    }
   ],
   "source": [
    "fd1 = sp.diff(fun, x)\n",
    "fd1.simplify()"
   ]
  },
  {
   "cell_type": "code",
   "execution_count": 11,
   "metadata": {},
   "outputs": [
    {
     "data": {
      "image/png": "[encoded data removed]",
      "text/latex": [
       "$\\displaystyle \\frac{\\left(1 - 2 x\\right) e^{\\operatorname{atan}{\\left(x \\right)}}}{\\left(x^{2} + 1\\right)^{2}}$"
      ],
      "text/plain": [
       "           atan(x)\n",
       "(1 - 2⋅x)⋅ℯ       \n",
       "──────────────────\n",
       "            2     \n",
       "    ⎛ 2    ⎞      \n",
       "    ⎝x  + 1⎠      "
      ]
     },
     "execution_count": 11,
     "metadata": {},
     "output_type": "execute_result"
    }
   ],
   "source": [
    "fd2 = sp.diff(fd1, x) # or fd2 = sp.diff(fun, x, x)\n",
    "fd2.simplify()"
   ]
  },
  {
   "cell_type": "code",
   "execution_count": 12,
   "metadata": {},
   "outputs": [
    {
     "data": {
      "image/png": "[encoded data removed]",
      "text/latex": [
       "$\\displaystyle \\frac{\\left(6 x^{2} - 6 x - 1\\right) e^{\\operatorname{atan}{\\left(x \\right)}}}{\\left(x^{2} + 1\\right)^{3}}$"
      ],
      "text/plain": [
       "⎛   2          ⎞  atan(x)\n",
       "⎝6⋅x  - 6⋅x - 1⎠⋅ℯ       \n",
       "─────────────────────────\n",
       "                3        \n",
       "        ⎛ 2    ⎞         \n",
       "        ⎝x  + 1⎠         "
      ]
     },
     "execution_count": 12,
     "metadata": {},
     "output_type": "execute_result"
    }
   ],
   "source": [
    "fd3 = sp.diff(fd2, x) # or fd3 = sp.diff(fun, x, x, x)\n",
    "fd3.simplify()"
   ]
  },
  {
   "cell_type": "code",
   "execution_count": 13,
   "metadata": {},
   "outputs": [
    {
     "data": {
      "image/png": "[encoded data removed]",
      "text/latex": [
       "$\\displaystyle \\frac{\\left(- 48 x^{3} + 44 x^{2} - 12 x + 8 \\cdot \\left(3 x - 1\\right) \\left(x^{2} + 1\\right) + 1\\right) e^{\\operatorname{atan}{\\left(x \\right)}}}{\\left(x^{2} + 1\\right)^{4}}$"
      ],
      "text/plain": [
       "⎛      3       2                      ⎛ 2    ⎞    ⎞  atan(x)\n",
       "⎝- 48⋅x  + 44⋅x  - 12⋅x + 8⋅(3⋅x - 1)⋅⎝x  + 1⎠ + 1⎠⋅ℯ       \n",
       "────────────────────────────────────────────────────────────\n",
       "                                 4                          \n",
       "                         ⎛ 2    ⎞                           \n",
       "                         ⎝x  + 1⎠                           "
      ]
     },
     "execution_count": 13,
     "metadata": {},
     "output_type": "execute_result"
    }
   ],
   "source": [
    "fd4 = sp.diff(fd3, x) # or fd4 = sp.diff(fun, x, x, x, x)\n",
    "fd4.simplify()"
   ]
  },
  {
   "cell_type": "code",
   "execution_count": 14,
   "metadata": {},
   "outputs": [
    {
     "data": {
      "image/png": "[encoded data removed]",
      "text/latex": [
       "$\\displaystyle 1.035144$"
      ],
      "text/plain": [
       "1.035144"
      ]
     },
     "execution_count": 14,
     "metadata": {},
     "output_type": "execute_result"
    }
   ],
   "source": [
    "odp1 = fd1.subs(x, 1.11)\n",
    "odp1.evalf(7)"
   ]
  },
  {
   "cell_type": "markdown",
   "metadata": {},
   "source": [
    "### Zadanie 4"
   ]
  },
  {
   "cell_type": "code",
   "execution_count": 15,
   "metadata": {},
   "outputs": [
    {
     "data": {
      "image/png": "[encoded data removed]",
      "text/latex": [
       "$\\displaystyle -\\infty < x \\wedge x < \\infty$"
      ],
      "text/plain": [
       "-∞ < x ∧ x < ∞"
      ]
     },
     "execution_count": 15,
     "metadata": {},
     "output_type": "execute_result"
    }
   ],
   "source": [
    "sp.solve(fd1>0) # rosnąca"
   ]
  },
  {
   "cell_type": "code",
   "execution_count": 16,
   "metadata": {},
   "outputs": [
    {
     "data": {
      "image/png": "[encoded data removed]",
      "text/latex": [
       "$\\displaystyle \\text{False}$"
      ],
      "text/plain": [
       "False"
      ]
     },
     "execution_count": 16,
     "metadata": {},
     "output_type": "execute_result"
    }
   ],
   "source": [
    "sp.solve(fd1<0) # malejąca"
   ]
  },
  {
   "cell_type": "markdown",
   "metadata": {},
   "source": [
    "Funkcja jest rosnąca na całej dziedzinie"
   ]
  },
  {
   "cell_type": "markdown",
   "metadata": {},
   "source": [
    "### Zadanie 5"
   ]
  },
  {
   "cell_type": "code",
   "execution_count": 17,
   "metadata": {},
   "outputs": [
    {
     "data": {
      "image/png": "[encoded data removed]",
      "text/latex": [
       "$\\displaystyle \\left[ \\right]$"
      ],
      "text/plain": [
       "[]"
      ]
     },
     "execution_count": 17,
     "metadata": {},
     "output_type": "execute_result"
    }
   ],
   "source": [
    "df1_zeros = sp.solve(fd1, x)\n",
    "df1_zeros"
   ]
  },
  {
   "cell_type": "markdown",
   "metadata": {},
   "source": [
    "funkcja nie ma ekstremów w dziedzinie, chyba że bierze się pod uwagę nieskończoności to wtedy są to wartości asymptot poziomych"
   ]
  },
  {
   "cell_type": "markdown",
   "metadata": {},
   "source": [
    "### Zadanie 6"
   ]
  },
  {
   "cell_type": "code",
   "execution_count": 18,
   "metadata": {},
   "outputs": [
    {
     "data": {
      "image/png": "[encoded data removed]",
      "text/latex": [
       "$\\displaystyle -\\infty < x \\wedge x < \\frac{1}{2}$"
      ],
      "text/plain": [
       "-∞ < x ∧ x < 1/2"
      ]
     },
     "execution_count": 18,
     "metadata": {},
     "output_type": "execute_result"
    }
   ],
   "source": [
    "sp.solve(fd2>0, x)"
   ]
  },
  {
   "cell_type": "code",
   "execution_count": 19,
   "metadata": {},
   "outputs": [
    {
     "data": {
      "image/png": "[encoded data removed]",
      "text/latex": [
       "$\\displaystyle \\frac{1}{2} < x \\wedge x < \\infty$"
      ],
      "text/plain": [
       "1/2 < x ∧ x < ∞"
      ]
     },
     "execution_count": 19,
     "metadata": {},
     "output_type": "execute_result"
    }
   ],
   "source": [
    "sp.solve(fd2<0, x)"
   ]
  },
  {
   "cell_type": "markdown",
   "metadata": {},
   "source": [
    "### Zadanie 7"
   ]
  },
  {
   "cell_type": "code",
   "execution_count": 20,
   "metadata": {},
   "outputs": [
    {
     "name": "stdout",
     "output_type": "stream",
     "text": [
      "True\n"
     ]
    },
    {
     "data": {
      "image/png": "[encoded data removed]",
      "text/latex": [
       "$\\displaystyle \\frac{1}{2}$"
      ],
      "text/plain": [
       "1/2"
      ]
     },
     "execution_count": 20,
     "metadata": {},
     "output_type": "execute_result"
    }
   ],
   "source": [
    "pp = sp.solve(fd2, x)[0]\n",
    "print((fd2.subs(x, pp-1)>0) == (fd2.subs(x, pp+1)<0)) # zmienia się znak więc prawda\n",
    "pp\n"
   ]
  },
  {
   "cell_type": "markdown",
   "metadata": {},
   "source": [
    "### Zadanie 8"
   ]
  },
  {
   "cell_type": "code",
   "execution_count": 21,
   "metadata": {},
   "outputs": [
    {
     "data": {
      "image/png": "[encoded data removed]",
      "text/plain": [
       "<Figure size 640x480 with 1 Axes>"
      ]
     },
     "metadata": {},
     "output_type": "display_data"
    }
   ],
   "source": [
    "p1 = sp.plot(fun,0, (x, 0, 8), show=False)\n",
    "line1 = sp.plot_implicit(sp.Eq(x, 1), (x, 0, 8), line_color='r', show=False)\n",
    "line2 = sp.plot_implicit(sp.Eq(x, 7), (x, 0, 8), line_color='g', show=False)\n",
    "p1.extend(line1)\n",
    "p1.extend(line2)\n",
    "p1.show()"
   ]
  },
  {
   "cell_type": "code",
   "execution_count": 22,
   "metadata": {},
   "outputs": [
    {
     "name": "stdout",
     "output_type": "stream",
     "text": [
      "21.57320957\n"
     ]
    },
    {
     "data": {
      "image/png": "[encoded data removed]",
      "text/latex": [
       "$\\displaystyle \\int\\limits_{1}^{7} e^{\\operatorname{atan}{\\left(x \\right)}}\\, dx$"
      ],
      "text/plain": [
       "7            \n",
       "⌠            \n",
       "⎮  atan(x)   \n",
       "⎮ ℯ        dx\n",
       "⌡            \n",
       "1            "
      ]
     },
     "execution_count": 22,
     "metadata": {},
     "output_type": "execute_result"
    }
   ],
   "source": [
    "surface = sp.integrate(fun, (x, 1, 7))\n",
    "print(surface.evalf(10))\n",
    "surface"
   ]
  },
  {
   "cell_type": "markdown",
   "metadata": {},
   "source": [
    "### Zadanie 9"
   ]
  },
  {
   "cell_type": "code",
   "execution_count": 23,
   "metadata": {},
   "outputs": [
    {
     "data": {
      "image/png": "[encoded data removed]",
      "text/latex": [
       "$\\displaystyle \\sqrt{1 + \\frac{e^{2 \\operatorname{atan}{\\left(x \\right)}}}{\\left(x^{2} + 1\\right)^{2}}}$"
      ],
      "text/plain": [
       "       ________________\n",
       "      ╱      2⋅atan(x) \n",
       "     ╱      ℯ          \n",
       "    ╱   1 + ────────── \n",
       "   ╱                2  \n",
       "  ╱         ⎛ 2    ⎞   \n",
       "╲╱          ⎝x  + 1⎠   "
      ]
     },
     "execution_count": 23,
     "metadata": {},
     "output_type": "execute_result"
    }
   ],
   "source": [
    "arch = sp.sqrt(1 + fd1**2).simplify()\n",
    "arch"
   ]
  },
  {
   "cell_type": "code",
   "execution_count": 24,
   "metadata": {},
   "outputs": [
    {
     "name": "stdout",
     "output_type": "stream",
     "text": [
      "6.47759987145645\n"
     ]
    },
    {
     "data": {
      "image/png": "[encoded data removed]",
      "text/latex": [
       "$\\displaystyle \\int\\limits_{1}^{7} \\sqrt{1 + \\frac{e^{2 \\operatorname{atan}{\\left(x \\right)}}}{\\left(x^{2} + 1\\right)^{2}}}\\, dx$"
      ],
      "text/plain": [
       "7                           \n",
       "⌠                           \n",
       "⎮        ________________   \n",
       "⎮       ╱      2⋅atan(x)    \n",
       "⎮      ╱      ℯ             \n",
       "⎮     ╱   1 + ──────────  dx\n",
       "⎮    ╱                2     \n",
       "⎮   ╱         ⎛ 2    ⎞      \n",
       "⎮ ╲╱          ⎝x  + 1⎠      \n",
       "⌡                           \n",
       "1                           "
      ]
     },
     "execution_count": 24,
     "metadata": {},
     "output_type": "execute_result"
    }
   ],
   "source": [
    "arch_length = sp.Integral(arch, (x, 1, 7))\n",
    "print(arch_length.n()) # .n() bo .doit() trwa za długo +-60sec\n",
    "arch_length"
   ]
  },
  {
   "cell_type": "markdown",
   "metadata": {},
   "source": [
    "### Zadanie 10"
   ]
  },
  {
   "cell_type": "code",
   "execution_count": 25,
   "metadata": {},
   "outputs": [
    {
     "name": "stdout",
     "output_type": "stream",
     "text": [
      "248.756275956791\n"
     ]
    },
    {
     "data": {
      "image/png": "[encoded data removed]",
      "text/latex": [
       "$\\displaystyle \\pi \\int\\limits_{1}^{7} e^{2 \\operatorname{atan}{\\left(x \\right)}}\\, dx$"
      ],
      "text/plain": [
       "  7              \n",
       "  ⌠              \n",
       "  ⎮  2⋅atan(x)   \n",
       "π⋅⎮ ℯ          dx\n",
       "  ⌡              \n",
       "  1              "
      ]
     },
     "execution_count": 25,
     "metadata": {},
     "output_type": "execute_result"
    }
   ],
   "source": [
    "volume_expr = fun**2\n",
    "volume = sp.pi * sp.Integral(volume_expr, (x, 1, 7))\n",
    "print(volume.n())\n",
    "volume"
   ]
  },
  {
   "cell_type": "markdown",
   "metadata": {},
   "source": [
    "### Zadanie 11"
   ]
  },
  {
   "cell_type": "code",
   "execution_count": 26,
   "metadata": {},
   "outputs": [
    {
     "name": "stdout",
     "output_type": "stream",
     "text": [
      "574.111404823024\n"
     ]
    },
    {
     "data": {
      "image/png": "[encoded data removed]",
      "text/latex": [
       "$\\displaystyle 2 \\pi \\int\\limits_{1}^{7} x e^{\\operatorname{atan}{\\left(x \\right)}}\\, dx$"
      ],
      "text/plain": [
       "    7              \n",
       "    ⌠              \n",
       "    ⎮    atan(x)   \n",
       "2⋅π⋅⎮ x⋅ℯ        dx\n",
       "    ⌡              \n",
       "    1              "
      ]
     },
     "execution_count": 26,
     "metadata": {},
     "output_type": "execute_result"
    }
   ],
   "source": [
    "volume_expr2 = x * fun\n",
    "volume2 = 2 * sp.pi * sp.Integral(volume_expr2, (x, 1, 7))\n",
    "print(volume2.n())\n",
    "volume2"
   ]
  },
  {
   "cell_type": "markdown",
   "metadata": {},
   "source": [
    "### Zadanie 12"
   ]
  },
  {
   "cell_type": "code",
   "execution_count": 27,
   "metadata": {},
   "outputs": [
    {
     "name": "stdout",
     "output_type": "stream",
     "text": [
      "144.220989323073\n"
     ]
    },
    {
     "data": {
      "image/png": "[encoded data removed]",
      "text/latex": [
       "$\\displaystyle 2 \\pi \\int\\limits_{1}^{7} \\sqrt{1 + \\frac{e^{2 \\operatorname{atan}{\\left(x \\right)}}}{\\left(x^{2} + 1\\right)^{2}}} e^{\\operatorname{atan}{\\left(x \\right)}}\\, dx$"
      ],
      "text/plain": [
       "    7                                    \n",
       "    ⌠                                    \n",
       "    ⎮        ________________            \n",
       "    ⎮       ╱      2⋅atan(x)             \n",
       "    ⎮      ╱      ℯ            atan(x)   \n",
       "2⋅π⋅⎮     ╱   1 + ────────── ⋅ℯ        dx\n",
       "    ⎮    ╱                2              \n",
       "    ⎮   ╱         ⎛ 2    ⎞               \n",
       "    ⎮ ╲╱          ⎝x  + 1⎠               \n",
       "    ⌡                                    \n",
       "    1                                    "
      ]
     },
     "execution_count": 27,
     "metadata": {},
     "output_type": "execute_result"
    }
   ],
   "source": [
    "surface_area_expr = fun * sp.sqrt(1 + fd1**2)\n",
    "surface = 2 * sp.pi * sp.Integral(surface_area_expr, (x, 1, 7))\n",
    "print(surface.n())\n",
    "surface"
   ]
  },
  {
   "cell_type": "markdown",
   "metadata": {},
   "source": [
    "### Zadanie 13"
   ]
  },
  {
   "cell_type": "code",
   "execution_count": 28,
   "metadata": {},
   "outputs": [
    {
     "name": "stdout",
     "output_type": "stream",
     "text": [
      "156.855002770292\n"
     ]
    },
    {
     "data": {
      "image/png": "[encoded data removed]",
      "text/latex": [
       "$\\displaystyle 2 \\pi \\int\\limits_{1}^{7} x \\sqrt{1 + \\frac{e^{2 \\operatorname{atan}{\\left(x \\right)}}}{\\left(x^{2} + 1\\right)^{2}}}\\, dx$"
      ],
      "text/plain": [
       "    7                             \n",
       "    ⌠                             \n",
       "    ⎮          ________________   \n",
       "    ⎮         ╱      2⋅atan(x)    \n",
       "    ⎮        ╱      ℯ             \n",
       "2⋅π⋅⎮ x⋅    ╱   1 + ──────────  dx\n",
       "    ⎮      ╱                2     \n",
       "    ⎮     ╱         ⎛ 2    ⎞      \n",
       "    ⎮   ╲╱          ⎝x  + 1⎠      \n",
       "    ⌡                             \n",
       "    1                             "
      ]
     },
     "execution_count": 28,
     "metadata": {},
     "output_type": "execute_result"
    }
   ],
   "source": [
    "surface_area_expr2 = x * sp.sqrt(1 + fd1**2)\n",
    "surface2 = 2 * sp.pi * sp.Integral(surface_area_expr2, (x, 1, 7))\n",
    "print(surface2.n())\n",
    "surface2"
   ]
  }
 ],
 "metadata": {
  "kernelspec": {
   "display_name": "venv",
   "language": "python",
   "name": "python3"
  },
  "language_info": {
   "codemirror_mode": {
    "name": "ipython",
    "version": 3
   },
   "file_extension": ".py",
   "mimetype": "text/x-python",
   "name": "python",
   "nbconvert_exporter": "python",
   "pygments_lexer": "ipython3",
   "version": "3.11.8"
  }
 },
 "nbformat": 4,
 "nbformat_minor": 2
}
