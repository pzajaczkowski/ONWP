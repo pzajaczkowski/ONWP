{
 "cells": [
  {
   "cell_type": "markdown",
   "metadata": {},
   "source": [
    "## Lista 1"
   ]
  },
  {
   "cell_type": "code",
   "execution_count": 168,
   "metadata": {},
   "outputs": [],
   "source": [
    "import sympy as sp\n",
    "from sympy.calculus.util import continuous_domain\n",
    "sp.init_printing()"
   ]
  },
  {
   "cell_type": "code",
   "execution_count": 169,
   "metadata": {},
   "outputs": [
    {
     "data": {
      "image/png": "[encoded data removed]",
      "text/latex": [
       "$\\displaystyle \\left(x + 3\\right) e^{\\frac{x + 1}{x - 1}}$"
      ],
      "text/plain": [
       "         x + 1\n",
       "         ─────\n",
       "         x - 1\n",
       "(x + 3)⋅ℯ     "
      ]
     },
     "execution_count": 169,
     "metadata": {},
     "output_type": "execute_result"
    }
   ],
   "source": [
    "x = sp.symbols('x')\n",
    "fun = (x+3)*sp.exp((x+1)/(x-1))\n",
    "fun\n"
   ]
  },
  {
   "cell_type": "markdown",
   "metadata": {},
   "source": [
    "### Zadanie 1\n",
    "\n",
    "Dziedzina funkcji to (-oo, 1) u (1, +oo)"
   ]
  },
  {
   "cell_type": "code",
   "execution_count": 170,
   "metadata": {},
   "outputs": [
    {
     "data": {
      "image/png": "[encoded data removed]",
      "text/latex": [
       "$\\displaystyle \\left(-\\infty, 1\\right) \\cup \\left(1, \\infty\\right)$"
      ],
      "text/plain": [
       "(-∞, 1) ∪ (1, ∞)"
      ]
     },
     "execution_count": 170,
     "metadata": {},
     "output_type": "execute_result"
    }
   ],
   "source": [
    "# dziedzina\n",
    "domain = continuous_domain(fun, x, sp.S.Reals)\n",
    "domain"
   ]
  },
  {
   "cell_type": "code",
   "execution_count": 171,
   "metadata": {},
   "outputs": [
    {
     "name": "stdout",
     "output_type": "stream",
     "text": [
      "0\n",
      "oo\n"
     ]
    }
   ],
   "source": [
    "poi = 1 # z nieciągłości dziedziny\n",
    "asymptote_ver_minus = sp.limit(fun, x, poi, dir='-')\n",
    "asymptote_ver_plus = sp.limit(fun, x, poi, dir='+')\n",
    "# +/- oo oznacza asymptote z tej strony do + lub - nieskończoności\n",
    "print(asymptote_ver_minus)\n",
    "print(asymptote_ver_plus)\n"
   ]
  },
  {
   "cell_type": "code",
   "execution_count": 172,
   "metadata": {},
   "outputs": [
    {
     "name": "stdout",
     "output_type": "stream",
     "text": [
      "-oo\n",
      "oo\n"
     ]
    }
   ],
   "source": [
    "# asymptoty poziome\n",
    "asymptote_hor_minus = sp.limit(fun, x, -sp.oo)\n",
    "asymptote_hor_plus = sp.limit(fun, x, sp.oo)\n",
    "print(asymptote_hor_minus)\n",
    "print(asymptote_hor_plus)"
   ]
  },
  {
   "cell_type": "code",
   "execution_count": 173,
   "metadata": {},
   "outputs": [
    {
     "name": "stdout",
     "output_type": "stream",
     "text": [
      "E\n",
      "E\n"
     ]
    }
   ],
   "source": [
    "# asymptoty ukośne y=ax+b am==ap to obustronne\n",
    "am = sp.limit(fun/x, x, -sp.oo)\n",
    "ap = sp.limit(fun/x, x, sp.oo)\n",
    "print(am)\n",
    "print(ap)"
   ]
  },
  {
   "cell_type": "code",
   "execution_count": 174,
   "metadata": {},
   "outputs": [
    {
     "name": "stdout",
     "output_type": "stream",
     "text": [
      "5*E\n",
      "5*E\n"
     ]
    }
   ],
   "source": [
    "# bm=bp to obustronne\n",
    "bm = sp.limit(fun-ap*x, x, sp.oo)\n",
    "bp = sp.limit(fun-ap*x, x, +sp.oo)\n",
    "print(bm)\n",
    "print(bp)"
   ]
  },
  {
   "cell_type": "code",
   "execution_count": 175,
   "metadata": {},
   "outputs": [
    {
     "name": "stdout",
     "output_type": "stream",
     "text": [
      "E*x - 5*E\n",
      "E*x - 5*E\n"
     ]
    }
   ],
   "source": [
    "# jeżeli nie ma ukośnych to one będą równe poziomym\n",
    "y1 = ap*x-bp\n",
    "y2 = am*x-bm\n",
    "print(y1)\n",
    "print(y2)"
   ]
  },
  {
   "cell_type": "markdown",
   "metadata": {},
   "source": [
    "### Zadanie 2"
   ]
  },
  {
   "cell_type": "code",
   "execution_count": 176,
   "metadata": {},
   "outputs": [
    {
     "data": {
      "image/png": "[encoded data removed]",
      "text/plain": [
       "<Figure size 640x480 with 1 Axes>"
      ]
     },
     "metadata": {},
     "output_type": "display_data"
    }
   ],
   "source": [
    "pl = sp.plot(fun, ylim=[-20,50], xlim=[-50,50])"
   ]
  },
  {
   "cell_type": "code",
   "execution_count": 177,
   "metadata": {},
   "outputs": [
    {
     "data": {
      "image/png": "[encoded data removed]",
      "text/latex": [
       "$\\displaystyle \\left[ -3\\right]$"
      ],
      "text/plain": [
       "[-3]"
      ]
     },
     "execution_count": 177,
     "metadata": {},
     "output_type": "execute_result"
    }
   ],
   "source": [
    "# miejsca zerowe\n",
    "zeros = sp.solve(fun)\n",
    "zeros"
   ]
  },
  {
   "cell_type": "code",
   "execution_count": 178,
   "metadata": {},
   "outputs": [
    {
     "data": {
      "image/png": "[encoded data removed]",
      "text/latex": [
       "$\\displaystyle \\frac{3}{e}$"
      ],
      "text/plain": [
       "   -1\n",
       "3⋅ℯ  "
      ]
     },
     "execution_count": 178,
     "metadata": {},
     "output_type": "execute_result"
    }
   ],
   "source": [
    "fun.subs(x,0)"
   ]
  },
  {
   "cell_type": "code",
   "execution_count": 179,
   "metadata": {},
   "outputs": [
    {
     "data": {
      "text/plain": [
       "False"
      ]
     },
     "execution_count": 179,
     "metadata": {},
     "output_type": "execute_result"
    }
   ],
   "source": [
    "# parzystość\n",
    "mfun = fun.subs(x,-x)\n",
    "is_even = fun == mfun\n",
    "is_even"
   ]
  },
  {
   "cell_type": "code",
   "execution_count": 180,
   "metadata": {},
   "outputs": [
    {
     "data": {
      "text/plain": [
       "False"
      ]
     },
     "execution_count": 180,
     "metadata": {},
     "output_type": "execute_result"
    }
   ],
   "source": [
    "# nieparzystość\n",
    "mfun = fun.subs(x,-x)\n",
    "is_odd = fun == -mfun\n",
    "is_odd"
   ]
  },
  {
   "cell_type": "code",
   "execution_count": 181,
   "metadata": {},
   "outputs": [
    {
     "data": {
      "text/plain": [
       "False"
      ]
     },
     "execution_count": 181,
     "metadata": {},
     "output_type": "execute_result"
    }
   ],
   "source": [
    "# okresowość - niesprawdzona\n",
    "t = sp.symbols('t')\n",
    "pfun = fun.subs(x, x+t)\n",
    "pfun.simplify() # trigsimp for trigonometric \n",
    "is_periodic = pfun == fun\n",
    "is_periodic"
   ]
  },
  {
   "cell_type": "markdown",
   "metadata": {},
   "source": [
    "### Zadanie 3"
   ]
  },
  {
   "cell_type": "code",
   "execution_count": 182,
   "metadata": {},
   "outputs": [
    {
     "name": "stdout",
     "output_type": "stream",
     "text": [
      "-145212658213.452\n"
     ]
    },
    {
     "data": {
      "image/png": "[encoded data removed]",
      "text/latex": [
       "$\\displaystyle \\frac{\\left(2 \\cdot \\left(1 - x\\right) \\left(x + 3\\right) + \\left(x - 1\\right)^{3}\\right) e^{\\frac{x + 1}{x - 1}}}{\\left(x - 1\\right)^{3}}$"
      ],
      "text/plain": [
       "                                x + 1\n",
       "                                ─────\n",
       "⎛                           3⎞  x - 1\n",
       "⎝2⋅(1 - x)⋅(x + 3) + (x - 1) ⎠⋅ℯ     \n",
       "─────────────────────────────────────\n",
       "                      3              \n",
       "               (x - 1)               "
      ]
     },
     "execution_count": 182,
     "metadata": {},
     "output_type": "execute_result"
    }
   ],
   "source": [
    "fd1 = sp.diff(fun, x)\n",
    "print(fd1.subs(x,1.11))\n",
    "fd1.simplify()"
   ]
  },
  {
   "cell_type": "code",
   "execution_count": 183,
   "metadata": {},
   "outputs": [
    {
     "name": "stdout",
     "output_type": "stream",
     "text": [
      "255.384591846462\n"
     ]
    },
    {
     "data": {
      "image/png": "[encoded data removed]",
      "text/latex": [
       "$\\displaystyle \\frac{\\left(20 x - 4\\right) e^{\\frac{x + 1}{x - 1}}}{x^{4} - 4 x^{3} + 6 x^{2} - 4 x + 1}$"
      ],
      "text/plain": [
       "                x + 1     \n",
       "                ─────     \n",
       "                x - 1     \n",
       "    (20⋅x - 4)⋅ℯ          \n",
       "──────────────────────────\n",
       " 4      3      2          \n",
       "x  - 4⋅x  + 6⋅x  - 4⋅x + 1"
      ]
     },
     "execution_count": 183,
     "metadata": {},
     "output_type": "execute_result"
    }
   ],
   "source": [
    "fd2 = sp.diff(fd1, x) # or fd2 = sp.diff(fun, x, x)\n",
    "print(fd2.subs(x,2.22))\n",
    "fd2.simplify()"
   ]
  },
  {
   "cell_type": "code",
   "execution_count": 184,
   "metadata": {},
   "outputs": [
    {
     "name": "stdout",
     "output_type": "stream",
     "text": [
      "-24.0510617795044\n"
     ]
    },
    {
     "data": {
      "image/png": "[encoded data removed]",
      "text/latex": [
       "$\\displaystyle \\frac{\\left(- 60 x^{2} + 16 x + 12\\right) e^{\\frac{x + 1}{x - 1}}}{x^{6} - 6 x^{5} + 15 x^{4} - 20 x^{3} + 15 x^{2} - 6 x + 1}$"
      ],
      "text/plain": [
       "                               x + 1       \n",
       "                               ─────       \n",
       "        ⎛      2            ⎞  x - 1       \n",
       "        ⎝- 60⋅x  + 16⋅x + 12⎠⋅ℯ            \n",
       "───────────────────────────────────────────\n",
       " 6      5       4       3       2          \n",
       "x  - 6⋅x  + 15⋅x  - 20⋅x  + 15⋅x  - 6⋅x + 1"
      ]
     },
     "execution_count": 184,
     "metadata": {},
     "output_type": "execute_result"
    }
   ],
   "source": [
    "fd3 = sp.diff(fd2, x) # or fd3 = sp.diff(fun, x, x, x)\n",
    "print(fd3.subs(x,3.33))\n",
    "fd3.simplify()"
   ]
  },
  {
   "cell_type": "code",
   "execution_count": 185,
   "metadata": {},
   "outputs": [
    {
     "name": "stdout",
     "output_type": "stream",
     "text": [
      "4.65689222046810\n"
     ]
    },
    {
     "data": {
      "image/png": "[encoded data removed]",
      "text/latex": [
       "$\\displaystyle \\frac{\\left(240 x^{3} - 80 x^{2} - 160 x + 64\\right) e^{\\frac{x + 1}{x - 1}}}{x^{8} - 8 x^{7} + 28 x^{6} - 56 x^{5} + 70 x^{4} - 56 x^{3} + 28 x^{2} - 8 x + 1}$"
      ],
      "text/plain": [
       "                                           x + 1           \n",
       "                                           ─────           \n",
       "            ⎛     3       2             ⎞  x - 1           \n",
       "            ⎝240⋅x  - 80⋅x  - 160⋅x + 64⎠⋅ℯ                \n",
       "───────────────────────────────────────────────────────────\n",
       " 8      7       6       5       4       3       2          \n",
       "x  - 8⋅x  + 28⋅x  - 56⋅x  + 70⋅x  - 56⋅x  + 28⋅x  - 8⋅x + 1"
      ]
     },
     "execution_count": 185,
     "metadata": {},
     "output_type": "execute_result"
    }
   ],
   "source": [
    "fd4 = sp.diff(fd3, x) # or fd4 = sp.diff(fun, x, x, x, x)\n",
    "print(fd4.subs(x,4.44))\n",
    "fd4.simplify()"
   ]
  },
  {
   "cell_type": "code",
   "execution_count": 186,
   "metadata": {},
   "outputs": [
    {
     "data": {
      "image/png": "[encoded data removed]",
      "text/latex": [
       "$\\displaystyle -1.452127 \\cdot 10^{11}$"
      ],
      "text/plain": [
       "-1.452127e+11"
      ]
     },
     "execution_count": 186,
     "metadata": {},
     "output_type": "execute_result"
    }
   ],
   "source": [
    "odp1 = fd1.subs(x, 1.11)\n",
    "odp1.evalf(7)"
   ]
  },
  {
   "cell_type": "markdown",
   "metadata": {},
   "source": [
    "### Zadanie 4"
   ]
  },
  {
   "cell_type": "code",
   "execution_count": 187,
   "metadata": {},
   "outputs": [
    {
     "data": {
      "image/png": "[encoded data removed]",
      "text/latex": [
       "$\\displaystyle \\left(-\\infty < x \\wedge x < -1\\right) \\vee \\left(5 < x \\wedge x < \\infty\\right)$"
      ],
      "text/plain": [
       "(-∞ < x ∧ x < -1) ∨ (5 < x ∧ x < ∞)"
      ]
     },
     "execution_count": 187,
     "metadata": {},
     "output_type": "execute_result"
    }
   ],
   "source": [
    "sp.solve(fd1>0) # rosnąca"
   ]
  },
  {
   "cell_type": "code",
   "execution_count": 188,
   "metadata": {},
   "outputs": [
    {
     "data": {
      "image/png": "[encoded data removed]",
      "text/latex": [
       "$\\displaystyle x > -1 \\wedge x < 5 \\wedge x \\neq 1$"
      ],
      "text/plain": [
       "x > -1 ∧ x < 5 ∧ x ≠ 1"
      ]
     },
     "execution_count": 188,
     "metadata": {},
     "output_type": "execute_result"
    }
   ],
   "source": [
    "sp.solve(fd1<0) # malejąca"
   ]
  },
  {
   "cell_type": "markdown",
   "metadata": {},
   "source": [
    "### Zadanie 5"
   ]
  },
  {
   "cell_type": "code",
   "execution_count": 189,
   "metadata": {},
   "outputs": [
    {
     "data": {
      "image/png": "[encoded data removed]",
      "text/latex": [
       "$\\displaystyle x > \\frac{1}{5} \\wedge x < \\infty \\wedge x \\neq 1$"
      ],
      "text/plain": [
       "x > 1/5 ∧ x < ∞ ∧ x ≠ 1"
      ]
     },
     "execution_count": 189,
     "metadata": {},
     "output_type": "execute_result"
    }
   ],
   "source": [
    "sp.solve(fd2>0, x)"
   ]
  },
  {
   "cell_type": "code",
   "execution_count": 190,
   "metadata": {},
   "outputs": [
    {
     "data": {
      "image/png": "[encoded data removed]",
      "text/latex": [
       "$\\displaystyle -\\infty < x \\wedge x < \\frac{1}{5}$"
      ],
      "text/plain": [
       "-∞ < x ∧ x < 1/5"
      ]
     },
     "execution_count": 190,
     "metadata": {},
     "output_type": "execute_result"
    }
   ],
   "source": [
    "sp.solve(fd2<0, x)"
   ]
  },
  {
   "cell_type": "markdown",
   "metadata": {},
   "source": [
    "### Zadanie 6"
   ]
  },
  {
   "cell_type": "code",
   "execution_count": 196,
   "metadata": {},
   "outputs": [
    {
     "data": {
      "image/png": "[encoded data removed]",
      "text/latex": [
       "$\\displaystyle \\left[ -1, \\  5\\right]$"
      ],
      "text/plain": [
       "[-1, 5]"
      ]
     },
     "execution_count": 196,
     "metadata": {},
     "output_type": "execute_result"
    }
   ],
   "source": [
    "df1_zeros = sp.solve(fd1, x)\n",
    "df1_zeros"
   ]
  },
  {
   "cell_type": "code",
   "execution_count": 197,
   "metadata": {},
   "outputs": [
    {
     "data": {
      "image/png": "[encoded data removed]",
      "text/latex": [
       "$\\displaystyle 2$"
      ],
      "text/plain": [
       "2"
      ]
     },
     "execution_count": 197,
     "metadata": {},
     "output_type": "execute_result"
    }
   ],
   "source": [
    "fun.subs(x,-1)"
   ]
  },
  {
   "cell_type": "code",
   "execution_count": 198,
   "metadata": {},
   "outputs": [
    {
     "data": {
      "image/png": "[encoded data removed]",
      "text/latex": [
       "$\\displaystyle 8 e^{\\frac{3}{2}}$"
      ],
      "text/plain": [
       "   3/2\n",
       "8⋅ℯ   "
      ]
     },
     "execution_count": 198,
     "metadata": {},
     "output_type": "execute_result"
    }
   ],
   "source": [
    "fun.subs(x, 5)"
   ]
  },
  {
   "cell_type": "markdown",
   "metadata": {},
   "source": [
    "### Zadanie 7"
   ]
  },
  {
   "cell_type": "code",
   "execution_count": 204,
   "metadata": {},
   "outputs": [
    {
     "name": "stdout",
     "output_type": "stream",
     "text": [
      "[1/5]\n",
      "True\n"
     ]
    },
    {
     "data": {
      "image/png": "[encoded data removed]",
      "text/latex": [
       "$\\displaystyle \\frac{1}{5}$"
      ],
      "text/plain": [
       "1/5"
      ]
     },
     "execution_count": 204,
     "metadata": {},
     "output_type": "execute_result"
    }
   ],
   "source": [
    "pp = sp.solve(fd2, x)\n",
    "print(pp)\n",
    "pp = pp[0]\n",
    "print((fd2.subs(x, pp-1)>0) == (fd2.subs(x, pp+1)<0)) # zmienia się znak więc prawda\n",
    "pp\n"
   ]
  },
  {
   "cell_type": "markdown",
   "metadata": {},
   "source": [
    "### Zadanie 8"
   ]
  },
  {
   "cell_type": "code",
   "execution_count": 216,
   "metadata": {},
   "outputs": [
    {
     "name": "stderr",
     "output_type": "stream",
     "text": [
      "/home/user/ONWP/.conda/lib/python3.12/site-packages/sympy/plotting/plot.py:1634: RuntimeWarning: invalid value encountered in scalar divide\n",
      "  cos_theta = dot_product / (vector_a_norm * vector_b_norm)\n",
      "/home/user/ONWP/.conda/lib/python3.12/site-packages/sympy/plotting/plot.py:1482: RuntimeWarning: overflow encountered in scalar multiply\n",
      "  pos_bottom = ('data', 0) if yl*yh <= 0 else 'center'\n"
     ]
    },
    {
     "data": {
      "image/png": "[encoded data removed]",
      "text/plain": [
       "<Figure size 640x480 with 1 Axes>"
      ]
     },
     "metadata": {},
     "output_type": "display_data"
    }
   ],
   "source": [
    "p1 = sp.plot(fun, xlim=[-50, 50], ylim=[-50, 50], show=False)\n",
    "#line1 = sp.plot_implicit(sp.Eq(x, 1), (x, 0, 8), line_color='r', show=False)\n",
    "#line2 = sp.plot_implicit(sp.Eq(x, 7), (x, 0, 8), line_color='g', show=False)\n",
    "#p1.extend(line1)\n",
    "#p1.extend(line2)\n",
    "p1.show()"
   ]
  }
 ],
 "metadata": {
  "kernelspec": {
   "display_name": "venv",
   "language": "python",
   "name": "python3"
  },
  "language_info": {
   "codemirror_mode": {
    "name": "ipython",
    "version": 3
   },
   "file_extension": ".py",
   "mimetype": "text/x-python",
   "name": "python",
   "nbconvert_exporter": "python",
   "pygments_lexer": "ipython3",
   "version": "3.12.2"
  }
 },
 "nbformat": 4,
 "nbformat_minor": 2
}
