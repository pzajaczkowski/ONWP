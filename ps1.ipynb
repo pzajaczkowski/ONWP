{
 "cells": [
  {
   "cell_type": "code",
   "execution_count": 1,
   "metadata": {},
   "outputs": [],
   "source": [
    "import sympy\n",
    "sympy.init_printing()"
   ]
  },
  {
   "cell_type": "code",
   "execution_count": 2,
   "metadata": {},
   "outputs": [],
   "source": [
    "x, y, e, a, b, c, z, t, AA, BB = sympy.symbols('x y e a b c z t AA BB')"
   ]
  },
  {
   "cell_type": "code",
   "execution_count": 3,
   "metadata": {},
   "outputs": [
    {
     "data": {
      "text/latex": [
       "$\\displaystyle x + \\frac{2 y^{3}}{5} + \\frac{3}{4}$"
      ],
      "text/plain": [
       "       3    \n",
       "    2⋅y    3\n",
       "x + ──── + ─\n",
       "     5     4"
      ]
     },
     "execution_count": 3,
     "metadata": {},
     "output_type": "execute_result"
    }
   ],
   "source": [
    "expr5 = x + 2*y**3/5+sympy.Rational(3,4)#nazywamy i definiujemy wyrażenie\n",
    "#Rational jest komendą do zapisywania ułamków zwykłych\n",
    "expr5 #wywołanie wyrażenia"
   ]
  },
  {
   "cell_type": "code",
   "execution_count": 4,
   "metadata": {},
   "outputs": [
    {
     "data": {
      "text/latex": [
       "$\\displaystyle x + \\frac{2 y^{3}}{5} + 0.75$"
      ],
      "text/plain": [
       "       3       \n",
       "    2⋅y        \n",
       "x + ──── + 0.75\n",
       "     5         "
      ]
     },
     "execution_count": 4,
     "metadata": {},
     "output_type": "execute_result"
    }
   ],
   "source": [
    "expr4 = x + 2*y**3/5+3/4 #nazywamy i definiujemy wyrażenie\n",
    "#Ułamek jest w postaci ułamka dziesiętnego, a nie zwykłego\n",
    "expr4 #wywołanie wyrażenia"
   ]
  },
  {
   "cell_type": "code",
   "execution_count": 5,
   "metadata": {},
   "outputs": [
    {
     "data": {
      "text/latex": [
       "$\\displaystyle x + 2 y^{\\frac{3}{5}} + \\frac{3}{4}$"
      ],
      "text/plain": [
       "       3/5   3\n",
       "x + 2⋅y    + ─\n",
       "             4"
      ]
     },
     "execution_count": 5,
     "metadata": {},
     "output_type": "execute_result"
    }
   ],
   "source": [
    "expr2 = x + 2*y**sympy.Rational(3,5)+sympy.Rational(3/4) #nazywamy i definiujemy wyrażenie\n",
    "#y do potęgi 3/5 - ułamek zwykły, 3/4 - ułamek zwykły\n",
    "expr2 #wywołanie wyrażenia"
   ]
  },
  {
   "cell_type": "code",
   "execution_count": 6,
   "metadata": {},
   "outputs": [
    {
     "data": {
      "text/latex": [
       "$\\displaystyle x^{2} + \\frac{2 x y^{3}}{5} + \\frac{3 x}{4}$"
      ],
      "text/plain": [
       "          3      \n",
       " 2   2⋅x⋅y    3⋅x\n",
       "x  + ────── + ───\n",
       "       5       4 "
      ]
     },
     "execution_count": 6,
     "metadata": {},
     "output_type": "execute_result"
    }
   ],
   "source": [
    "expanded_expr = sympy.expand(x*expr5) #expanded form - forma rozwinięta\n",
    "expanded_expr"
   ]
  }
 ],
 "metadata": {
  "kernelspec": {
   "display_name": "Python 3",
   "language": "python",
   "name": "python3"
  },
  "language_info": {
   "codemirror_mode": {
    "name": "ipython",
    "version": 3
   },
   "file_extension": ".py",
   "mimetype": "text/x-python",
   "name": "python",
   "nbconvert_exporter": "python",
   "pygments_lexer": "ipython3",
   "version": "3.12.2"
  }
 },
 "nbformat": 4,
 "nbformat_minor": 2
}
