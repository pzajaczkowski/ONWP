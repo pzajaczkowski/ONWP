{
 "cells": [
  {
   "cell_type": "markdown",
   "metadata": {},
   "source": [
    "# Lista 0"
   ]
  },
  {
   "cell_type": "markdown",
   "metadata": {},
   "source": [
    "### Zadanie 3"
   ]
  },
  {
   "cell_type": "code",
   "execution_count": 103,
   "metadata": {},
   "outputs": [],
   "source": [
    "from sympy import *\n",
    "init_printing()"
   ]
  },
  {
   "cell_type": "code",
   "execution_count": 104,
   "metadata": {},
   "outputs": [],
   "source": [
    "x = symbols('x')"
   ]
  },
  {
   "cell_type": "code",
   "execution_count": 105,
   "metadata": {},
   "outputs": [],
   "source": [
    "a = sqrt(x**2+20**2)/2\n",
    "b = sqrt((50-x)**2+20**2)/5\n",
    "f = a + b"
   ]
  },
  {
   "cell_type": "code",
   "execution_count": 106,
   "metadata": {},
   "outputs": [
    {
     "data": {
      "text/latex": [
       "$\\displaystyle 7.75516941723924$"
      ],
      "text/plain": [
       "7.75516941723924"
      ]
     },
     "execution_count": 106,
     "metadata": {},
     "output_type": "execute_result"
    }
   ],
   "source": [
    "fd1 = diff(f, x)\n",
    "crit_points = solve(fd1, x)\n",
    "point = N(crit_points[0])\n",
    "point"
   ]
  },
  {
   "cell_type": "code",
   "execution_count": 107,
   "metadata": {},
   "outputs": [
    {
     "data": {
      "text/latex": [
       "$\\displaystyle - \\frac{x^{2}}{2 \\left(x^{2} + 400\\right)^{\\frac{3}{2}}} + \\frac{\\left(50 - x\\right) \\left(x - 50\\right)}{5 \\left(\\left(50 - x\\right)^{2} + 400\\right)^{\\frac{3}{2}}} + \\frac{1}{5 \\sqrt{\\left(50 - x\\right)^{2} + 400}} + \\frac{1}{2 \\sqrt{x^{2} + 400}}$"
      ],
      "text/plain": [
       "          2                                                                   \n",
       "         x            (50 - x)⋅(x - 50)                1                     1\n",
       "- ─────────────── + ────────────────────── + ────────────────────── + ────────\n",
       "              3/2                      3/2        _________________        ___\n",
       "    ⎛ 2      ⎞        ⎛        2      ⎞          ╱         2              ╱  2\n",
       "  2⋅⎝x  + 400⎠      5⋅⎝(50 - x)  + 400⎠      5⋅╲╱  (50 - x)  + 400    2⋅╲╱  x \n",
       "\n",
       "       \n",
       "       \n",
       "───────\n",
       "_______\n",
       "       \n",
       " + 400 "
      ]
     },
     "execution_count": 107,
     "metadata": {},
     "output_type": "execute_result"
    }
   ],
   "source": [
    "fd2 = diff(fd1, x)\n",
    "fd2\n",
    "    "
   ]
  },
  {
   "cell_type": "code",
   "execution_count": 108,
   "metadata": {},
   "outputs": [
    {
     "data": {
      "text/latex": [
       "$\\displaystyle 0.0210458911278043$"
      ],
      "text/plain": [
       "0.0210458911278043"
      ]
     },
     "execution_count": 108,
     "metadata": {},
     "output_type": "execute_result"
    }
   ],
   "source": [
    "fd2forcrit = fd2.subs(x, point)\n",
    "fd2forcrit"
   ]
  },
  {
   "cell_type": "markdown",
   "metadata": {},
   "source": [
    "fd2forcrit jest większe od 0, więc mamy minimum lokalne = ~7,755 co oznacza że ten punkt można podstawić do funkcji aby uzyskać ten wynikowy czas\n"
   ]
  },
  {
   "cell_type": "code",
   "execution_count": 109,
   "metadata": {},
   "outputs": [
    {
     "data": {
      "text/latex": [
       "$\\displaystyle 20.0734639282818$"
      ],
      "text/plain": [
       "20.0734639282818"
      ]
     },
     "execution_count": 109,
     "metadata": {},
     "output_type": "execute_result"
    }
   ],
   "source": [
    "result = f.subs(x, point)\n",
    "result"
   ]
  }
 ],
 "metadata": {
  "kernelspec": {
   "display_name": "Python 3",
   "language": "python",
   "name": "python3"
  },
  "language_info": {
   "codemirror_mode": {
    "name": "ipython",
    "version": 3
   },
   "file_extension": ".py",
   "mimetype": "text/x-python",
   "name": "python",
   "nbconvert_exporter": "python",
   "pygments_lexer": "ipython3",
   "version": "3.12.2"
  }
 },
 "nbformat": 4,
 "nbformat_minor": 2
}
