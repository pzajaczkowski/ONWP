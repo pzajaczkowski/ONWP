{
 "cells": [
  {
   "cell_type": "markdown",
   "metadata": {},
   "source": [
    "# Lista 0\n",
    "### Zadanie 4"
   ]
  },
  {
   "cell_type": "code",
   "execution_count": 43,
   "metadata": {},
   "outputs": [],
   "source": [
    "from sympy import *\n",
    "init_printing()"
   ]
  },
  {
   "cell_type": "code",
   "execution_count": 44,
   "metadata": {},
   "outputs": [
    {
     "data": {
      "text/latex": [
       "$\\displaystyle \\frac{1.5}{x \\left(1 + \\frac{5.44}{x^{2}}\\right)}$"
      ],
      "text/plain": [
       "    1.5     \n",
       "────────────\n",
       "  ⎛    5.44⎞\n",
       "x⋅⎜1 + ────⎟\n",
       "  ⎜      2 ⎟\n",
       "  ⎝     x  ⎠"
      ]
     },
     "execution_count": 44,
     "metadata": {},
     "output_type": "execute_result"
    }
   ],
   "source": [
    "x = symbols('x')\n",
    "talfa = 3.2/x\n",
    "tbeta = 1.7/x\n",
    "\n",
    "fdom = Interval(0, float('inf'))\n",
    "\n",
    "# f = tan(a-b)\n",
    "f = (talfa - tbeta)/(1+talfa*tbeta)\n",
    "f\n",
    "\n"
   ]
  },
  {
   "cell_type": "code",
   "execution_count": 45,
   "metadata": {},
   "outputs": [
    {
     "data": {
      "text/latex": [
       "$\\displaystyle \\frac{1.5 - 0.0506866349480969 x^{4}}{0.0337910899653979 x^{6} + 0.551470588235294 x^{4} + 3.0 x^{2} + 5.44}$"
      ],
      "text/plain": [
       "                                          4                 \n",
       "                1.5 - 0.0506866349480969⋅x                  \n",
       "────────────────────────────────────────────────────────────\n",
       "                    6                      4        2       \n",
       "0.0337910899653979⋅x  + 0.551470588235294⋅x  + 3.0⋅x  + 5.44"
      ]
     },
     "execution_count": 45,
     "metadata": {},
     "output_type": "execute_result"
    }
   ],
   "source": [
    "fd1 = diff(f, x)\n",
    "simplify(fd1)"
   ]
  },
  {
   "cell_type": "code",
   "execution_count": 49,
   "metadata": {},
   "outputs": [
    {
     "data": {
      "text/latex": [
       "$\\displaystyle 2.33238075793812$"
      ],
      "text/plain": [
       "2.33238075793812"
      ]
     },
     "execution_count": 49,
     "metadata": {},
     "output_type": "execute_result"
    }
   ],
   "source": [
    "crit_points = solve(fd1,x)\n",
    "crit_points = list(filter(lambda x: fdom.contains(x), crit_points))\n",
    "poi = crit_points[0]\n",
    "poi\n"
   ]
  },
  {
   "cell_type": "code",
   "execution_count": 47,
   "metadata": {},
   "outputs": [
    {
     "data": {
      "text/latex": [
       "$\\displaystyle \\frac{0.0186347922603297 x^{6} - 0.202746539792388 x^{4} - 1.65441176470588 x^{2} - 1.77635683940025 \\cdot 10^{-15}}{x \\left(0.00621159742010991 x^{8} + 0.135164359861592 x^{6} + 1.10294117647059 x^{4} + 4.0 x^{2} + 5.44\\right)}$"
      ],
      "text/plain": [
       "                    6                      4                     2            \n",
       "0.0186347922603297⋅x  - 0.202746539792388⋅x  - 1.65441176470588⋅x  - 1.7763568\n",
       "──────────────────────────────────────────────────────────────────────────────\n",
       "   ⎛                     8                      6                     4       \n",
       " x⋅⎝0.00621159742010991⋅x  + 0.135164359861592⋅x  + 1.10294117647059⋅x  + 4.0⋅\n",
       "\n",
       "           \n",
       "3940025e-15\n",
       "───────────\n",
       " 2       ⎞ \n",
       "x  + 5.44⎠ "
      ]
     },
     "execution_count": 47,
     "metadata": {},
     "output_type": "execute_result"
    }
   ],
   "source": [
    "fd2 = simplify(diff(fd1, x))\n",
    "fd2\n"
   ]
  },
  {
   "cell_type": "code",
   "execution_count": 48,
   "metadata": {},
   "outputs": [
    {
     "data": {
      "text/latex": [
       "$\\displaystyle -0.0591102660187875$"
      ],
      "text/plain": [
       "-0.0591102660187875"
      ]
     },
     "execution_count": 48,
     "metadata": {},
     "output_type": "execute_result"
    }
   ],
   "source": [
    "fd2forpoi = fd2.subs(x,poi)\n",
    "fd2forpoi"
   ]
  },
  {
   "cell_type": "markdown",
   "metadata": {},
   "source": [
    "Wynikiem jest poi =~ 2,33m bo fd2forpoi jest <0"
   ]
  }
 ],
 "metadata": {
  "kernelspec": {
   "display_name": "Python 3",
   "language": "python",
   "name": "python3"
  },
  "language_info": {
   "codemirror_mode": {
    "name": "ipython",
    "version": 3
   },
   "file_extension": ".py",
   "mimetype": "text/x-python",
   "name": "python",
   "nbconvert_exporter": "python",
   "pygments_lexer": "ipython3",
   "version": "3.12.2"
  }
 },
 "nbformat": 4,
 "nbformat_minor": 2
}
