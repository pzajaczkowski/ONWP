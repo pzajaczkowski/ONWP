{
 "cells": [
  {
   "cell_type": "markdown",
   "metadata": {},
   "source": [
    "# Lista 0\n",
    "### Zadanie 7"
   ]
  },
  {
   "cell_type": "code",
   "execution_count": 17,
   "metadata": {},
   "outputs": [],
   "source": [
    "from sympy import *\n",
    "init_printing()"
   ]
  },
  {
   "cell_type": "code",
   "execution_count": 18,
   "metadata": {},
   "outputs": [
    {
     "data": {
      "text/latex": [
       "$\\displaystyle 60 x^{2} + \\frac{14400}{x}$"
      ],
      "text/plain": [
       "    2   14400\n",
       "60⋅x  + ─────\n",
       "          x  "
      ]
     },
     "execution_count": 18,
     "metadata": {},
     "output_type": "execute_result"
    }
   ],
   "source": [
    "x = symbols('x', real=true)\n",
    "\n",
    "pp = x*x\n",
    "h = 90/pp\n",
    "pp_price = 2*pp*30\n",
    "pb_price = 4*x*h*40\n",
    "\n",
    "f = pp_price + pb_price\n",
    "f"
   ]
  },
  {
   "cell_type": "code",
   "execution_count": 19,
   "metadata": {},
   "outputs": [
    {
     "data": {
      "text/latex": [
       "$\\displaystyle 120 x - \\frac{14400}{x^{2}}$"
      ],
      "text/plain": [
       "        14400\n",
       "120⋅x - ─────\n",
       "           2 \n",
       "          x  "
      ]
     },
     "execution_count": 19,
     "metadata": {},
     "output_type": "execute_result"
    }
   ],
   "source": [
    "fd1 = diff(f, x)\n",
    "fd1"
   ]
  },
  {
   "cell_type": "code",
   "execution_count": 20,
   "metadata": {},
   "outputs": [
    {
     "data": {
      "text/latex": [
       "$\\displaystyle 4.93242414866094$"
      ],
      "text/plain": [
       "4.93242414866094"
      ]
     },
     "execution_count": 20,
     "metadata": {},
     "output_type": "execute_result"
    }
   ],
   "source": [
    "crit_points = solve(fd1,x, )\n",
    "poi = crit_points[0]\n",
    "N(poi)"
   ]
  },
  {
   "cell_type": "code",
   "execution_count": 21,
   "metadata": {},
   "outputs": [
    {
     "data": {
      "text/latex": [
       "$\\displaystyle 120 + \\frac{28800}{x^{3}}$"
      ],
      "text/plain": [
       "      28800\n",
       "120 + ─────\n",
       "         3 \n",
       "        x  "
      ]
     },
     "execution_count": 21,
     "metadata": {},
     "output_type": "execute_result"
    }
   ],
   "source": [
    "fd2 = diff(fd1, x)\n",
    "fd2"
   ]
  },
  {
   "cell_type": "code",
   "execution_count": 22,
   "metadata": {},
   "outputs": [
    {
     "data": {
      "text/latex": [
       "$\\displaystyle 360$"
      ],
      "text/plain": [
       "360"
      ]
     },
     "execution_count": 22,
     "metadata": {},
     "output_type": "execute_result"
    }
   ],
   "source": [
    "checkExtremum = fd2.subs(x, poi)\n",
    "checkExtremum"
   ]
  },
  {
   "cell_type": "markdown",
   "metadata": {},
   "source": [
    "otrzymano dodatnią wartość w ekstremum stopnia parzystego co oznacza minimum lokalne w tym miejscu"
   ]
  },
  {
   "cell_type": "code",
   "execution_count": 23,
   "metadata": {},
   "outputs": [
    {
     "data": {
      "text/latex": [
       "$\\displaystyle 4379.18543681285$"
      ],
      "text/plain": [
       "4379.18543681285"
      ]
     },
     "execution_count": 23,
     "metadata": {},
     "output_type": "execute_result"
    }
   ],
   "source": [
    "result = f.subs(x,poi)\n",
    "N(result)"
   ]
  }
 ],
 "metadata": {
  "kernelspec": {
   "display_name": "Python 3",
   "language": "python",
   "name": "python3"
  },
  "language_info": {
   "codemirror_mode": {
    "name": "ipython",
    "version": 3
   },
   "file_extension": ".py",
   "mimetype": "text/x-python",
   "name": "python",
   "nbconvert_exporter": "python",
   "pygments_lexer": "ipython3",
   "version": "3.12.2"
  }
 },
 "nbformat": 4,
 "nbformat_minor": 2
}
